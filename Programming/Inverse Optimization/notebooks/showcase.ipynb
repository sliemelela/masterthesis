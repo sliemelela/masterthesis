{
 "cells": [
  {
   "attachments": {},
   "cell_type": "markdown",
   "metadata": {},
   "source": [
    "# Introduction & Preparation "
   ]
  },
  {
   "attachments": {},
   "cell_type": "markdown",
   "metadata": {},
   "source": [
    "## Introduction"
   ]
  },
  {
   "attachments": {},
   "cell_type": "markdown",
   "metadata": {},
   "source": [
    "The goal of this notebook is to showcase the so-called 'Inverse Optimization' algorithm on some synthetic datasets. The goal of this algorithm is to generate some new dataset that has the same (persistent) topological characteristics as some target dataset that we input. For this we use the persistent diagrams of some input and target dataset as a loss."
   ]
  },
  {
   "attachments": {},
   "cell_type": "markdown",
   "metadata": {},
   "source": [
    "## Preparation"
   ]
  },
  {
   "attachments": {},
   "cell_type": "markdown",
   "metadata": {},
   "source": [
    "In this notebook we make use of different packages. One of the packages that we make use of is `inverse_optim` which include functions tailor made for this notebook. We want to make sure that any changes in `inverse_optim` are directly reflected in this notebook. For this we use the first three lines of code, after which we include the packages as usual. If you run into problems with `inverse_optim`, please read the README.md file on the repository."
   ]
  },
  {
   "cell_type": "code",
   "execution_count": 1,
   "metadata": {},
   "outputs": [
    {
     "name": "stdout",
     "output_type": "stream",
     "text": [
      "Modules to reload:\n",
      "all-except-skipped\n",
      "\n",
      "Modules to skip:\n",
      "\n"
     ]
    },
    {
     "name": "stderr",
     "output_type": "stream",
     "text": [
      "2023-05-22 23:20:15.800599: I tensorflow/core/platform/cpu_feature_guard.cc:193] This TensorFlow binary is optimized with oneAPI Deep Neural Network Library (oneDNN) to use the following CPU instructions in performance-critical operations:  AVX2 FMA\n",
      "To enable them in other operations, rebuild TensorFlow with the appropriate compiler flags.\n"
     ]
    }
   ],
   "source": [
    "%load_ext autoreload\n",
    "%autoreload 2\n",
    "%aimport\n",
    "\n",
    "import matplotlib.pyplot as plt\n",
    "import torch\n",
    "import numpy as np\n",
    "from inverse_optim import gen_data\n",
    "from inverse_optim import research_plot\n",
    "from inverse_optim import sancho\n",
    "import tadasets\n",
    "import gudhi as gd\n",
    "import powerbox as pbox"
   ]
  },
  {
   "attachments": {},
   "cell_type": "markdown",
   "metadata": {},
   "source": [
    "# Circle and the Figure Eight"
   ]
  },
  {
   "attachments": {},
   "cell_type": "markdown",
   "metadata": {},
   "source": [
    "First, choose which figure you would like to generate. You can comment out the figure you are not interested in."
   ]
  },
  {
   "cell_type": "code",
   "execution_count": 4,
   "metadata": {},
   "outputs": [
    {
     "data": {
      "image/png": "[encoded data removed]",
      "text/plain": [
       "<Figure size 640x480 with 1 Axes>"
      ]
     },
     "metadata": {},
     "output_type": "display_data"
    }
   ],
   "source": [
    "# This is a synthetic data set that we want \"approximate\"\n",
    "N = 200\n",
    "goal_pts = tadasets.dsphere(n=N, d=1, noise=0.1) # circle\n",
    "# goal_pts = tadasets.infty_sign(n=N, noise=0.1) # figure eight\n",
    "\n",
    "# Translate whole point set so that nothing is negative\n",
    "min_coord = np.min(goal_pts)\n",
    "goal_pts = goal_pts - min_coord\n",
    "\n",
    "# Find box_size\n",
    "box_size = np.max(goal_pts)\n",
    "\n",
    "# To perform Stochastic Gradient Descent (SGD), we need our set to be of tensor type\n",
    "goal_pts = torch.tensor(goal_pts)\n",
    "\n",
    "# Plot the initial/goal data set\n",
    "P = goal_pts.detach().numpy()\n",
    "plt.scatter(P[:, 0], P[:, 1])\n",
    "plt.show()"
   ]
  },
  {
   "attachments": {},
   "cell_type": "markdown",
   "metadata": {},
   "source": [
    "Below you will find multiple methods with which you can use the algorithm. The current methods include: Ripser filtration, Alpha-DTM (Hybrid) Filtration and Alpha-Ripser Hybrid Filtration."
   ]
  },
  {
   "attachments": {},
   "cell_type": "markdown",
   "metadata": {},
   "source": [
    "## Ripser Filtration"
   ]
  },
  {
   "attachments": {},
   "cell_type": "markdown",
   "metadata": {},
   "source": [
    "### Creation of dataset"
   ]
  },
  {
   "attachments": {},
   "cell_type": "markdown",
   "metadata": {},
   "source": [
    "For optimization purposes, we are interested in the pairwise distances of all the points. \n",
    "\n",
    "In the Rips filtration, we are constantly looking at sub-complexes of the largest possible complex given a dataset. The interesting parts of the filtration (that capture the persistent features) happen at a stage that is in the beginning before the total complex is reached. So if we are interested in optimizing the filtration, we could put a threshold on the possible edge lengths that are drawn without losing (too much) information.\n",
    "\n",
    "To that end we will look at the pairwise distances of all points in the initial/goal point cloud and then determine what the 60-90th percentile is. It could be argued that for higher dimensional PD's, the persistence happens at later stages in general, meaning you would need a higher percentile. \n",
    "\n",
    "A guideline that is currently used (based on clinical estimations of a few trials and input of other postdocs/phds who are working with this project):\n",
    "- Zero dimensional PD: 70\n",
    "- One dimensional PD: 80\n",
    "- Two dimensional PD: 90\n",
    "\n"
   ]
  },
  {
   "cell_type": "code",
   "execution_count": 3,
   "metadata": {},
   "outputs": [],
   "source": [
    "from scipy.spatial.distance import cdist\n",
    "\n",
    "# Initialize percentile\n",
    "percentile = 80\n",
    "\n",
    "# Creation of list of all pairwise distances\n",
    "goal_D = cdist(goal_pts, goal_pts)\n",
    "distance_vec = goal_D.flatten()\n",
    "\n",
    "# Define maximum edge length\n",
    "max_edge_length = np.percentile(distance_vec, percentile)"
   ]
  },
  {
   "cell_type": "code",
   "execution_count": 17,
   "metadata": {},
   "outputs": [],
   "source": [
    "# Creation of the PD that we want to get to\n",
    "goal_pd = gen_data.create_rips_pd(pts=goal_pts, max_edge_length=max_edge_length)"
   ]
  },
  {
   "attachments": {},
   "cell_type": "markdown",
   "metadata": {},
   "source": [
    "First, we need to find out what optimal learning rate is. If you would like to make the computation quicker (which will make it less accurate), pass the option sliced=True to use the sliced wasserstein distance as the metric. Warning: This is extremely slow compared to the other filtrations."
   ]
  },
  {
   "cell_type": "code",
   "execution_count": null,
   "metadata": {},
   "outputs": [],
   "source": [
    "lr_list = np.linspace(0.001, 1, 6)\n",
    "research_plot.research_lr(lr_list=lr_list, goal_pd=goal_pd, amount=N, dim=2, epochs=300, decay_speed=30, sliced=False, filtr=\"rips\", max_edge_length=max_edge_length, box_size=box_size)"
   ]
  },
  {
   "attachments": {},
   "cell_type": "markdown",
   "metadata": {},
   "source": [
    "After running the above code, plug in the best learning rate:"
   ]
  },
  {
   "cell_type": "code",
   "execution_count": null,
   "metadata": {},
   "outputs": [],
   "source": [
    "# Generation of new dataset\n",
    "final_pts = gen_data.generate_data(goal_pd=goal_pd, amount=N, dim=2, lr=0.08, epochs=600, decay_speed=30, investigate=False, sliced=False, filtr=\"rips\", box_size=box_size)"
   ]
  },
  {
   "attachments": {},
   "cell_type": "markdown",
   "metadata": {},
   "source": [
    "### The powerspectrum\n",
    "\n",
    "Later on we will focus on so-called Gaussian Random Fields (GRF). A characteristic feature of GRF's is their power spectrum. For that reason, we will already test whether the generated data set and the target dataset have the same power spectrum."
   ]
  },
  {
   "cell_type": "code",
   "execution_count": null,
   "metadata": {},
   "outputs": [],
   "source": [
    "original_pts = goal_pts.detach().numpy()\n",
    "produced_pts = final_pts.detach().numpy()"
   ]
  },
  {
   "cell_type": "code",
   "execution_count": null,
   "metadata": {},
   "outputs": [],
   "source": [
    "# The number of grid points are also required when passing the samples\n",
    "p_k_samples, bins_samples = pbox.get_power(original_pts, 2.0, N=N)\n",
    "p_k_samples_new, bins_samples_new = pbox.get_power(produced_pts, 8.0, N=N)"
   ]
  },
  {
   "cell_type": "code",
   "execution_count": null,
   "metadata": {},
   "outputs": [],
   "source": [
    "plt.plot(bins_samples, p_k_samples,label=\"Original Circle Power\")\n",
    "plt.plot(bins_samples_new, p_k_samples_new,label=\"Generated Circle Power\")\n",
    "\n",
    "plt.legend()\n",
    "plt.xscale('log')\n",
    "plt.yscale('log')"
   ]
  },
  {
   "attachments": {},
   "cell_type": "markdown",
   "metadata": {},
   "source": [
    "## Alpha DTM Filtration"
   ]
  },
  {
   "attachments": {},
   "cell_type": "markdown",
   "metadata": {},
   "source": [
    "### Creation of dataset"
   ]
  },
  {
   "cell_type": "code",
   "execution_count": 38,
   "metadata": {},
   "outputs": [
    {
     "data": {
      "text/plain": [
       "<matplotlib.collections.PathCollection at 0x7fa342192e90>"
      ]
     },
     "execution_count": 38,
     "metadata": {},
     "output_type": "execute_result"
    },
    {
     "data": {
      "image/png": "[encoded data removed]",
      "text/plain": [
       "<Figure size 640x480 with 1 Axes>"
      ]
     },
     "metadata": {},
     "output_type": "display_data"
    }
   ],
   "source": [
    "# Creation of the PD that we want to get to\n",
    "# goal_pd = gen_data.create_hybrid_dtm_pd(goal_pts)\n",
    "goal_pd = gen_data.create_line_pd(goal_pts)\n",
    "\n",
    "plt.scatter(goal_pd[0][:,0], goal_pd[0][:,1])"
   ]
  },
  {
   "attachments": {},
   "cell_type": "markdown",
   "metadata": {},
   "source": [
    "First, we need to find out what optimal learning rate is. If you would like to make the computation quicker (which will make it less accurate), pass the option sliced=True to use the sliced wasserstein distance as the metric.\n",
    "\n",
    "Note: It seems like setting `m=0.7` and `p=1.5` give a circle without any stray points inside the circle. If you would like to change these values, they are unfortunately still hardcoded in the `gen_data.py` file. Go to the function `create_hybrid_dtm_pd` and change the values there. Support for changing these values in this notebook will come soon."
   ]
  },
  {
   "cell_type": "code",
   "execution_count": 24,
   "metadata": {},
   "outputs": [
    {
     "name": "stderr",
     "output_type": "stream",
     "text": [
      "100%|██████████| 300/300 [00:13<00:00, 22.39it/s]\n",
      "100%|██████████| 300/300 [00:13<00:00, 22.55it/s]\n",
      "100%|██████████| 300/300 [00:13<00:00, 22.97it/s]\n",
      "100%|██████████| 300/300 [00:13<00:00, 22.70it/s]\n",
      "100%|██████████| 300/300 [00:13<00:00, 22.72it/s]\n",
      "100%|██████████| 300/300 [00:13<00:00, 22.55it/s]\n"
     ]
    },
    {
     "data": {
      "image/png": "[encoded data removed]",
      "text/plain": [
       "<Figure size 640x480 with 1 Axes>"
      ]
     },
     "metadata": {},
     "output_type": "display_data"
    }
   ],
   "source": [
    "lr_list = np.linspace(0.1, 2, 6)\n",
    "# research_plot.research_lr(lr_list=lr_list, goal_pd=goal_pd, amount=N, dim=2, epochs=300, decay_speed=30, sliced=False, filtr=\"alpha_dtm\", box_size=box_size)\n",
    "research_plot.research_lr(lr_list=lr_list, goal_pd=goal_pd, amount=N, dim=2, epochs=300, decay_speed=30, sliced=False, filtr=\"line\", box_size=box_size)"
   ]
  },
  {
   "attachments": {},
   "cell_type": "markdown",
   "metadata": {},
   "source": [
    "After running the above code, plug in the best learning rate:"
   ]
  },
  {
   "cell_type": "code",
   "execution_count": 32,
   "metadata": {},
   "outputs": [
    {
     "data": {
      "image/png": "[encoded data removed]",
      "text/plain": [
       "<Figure size 640x480 with 1 Axes>"
      ]
     },
     "metadata": {},
     "output_type": "display_data"
    },
    {
     "name": "stderr",
     "output_type": "stream",
     "text": [
      "  1%|          | 4/600 [00:00<00:17, 33.87it/s]"
     ]
    },
    {
     "name": "stdout",
     "output_type": "stream",
     "text": [
      "0: 0.9524706075485302\n",
      "1: 1.0565606072138567\n",
      "0: 0.8490677365287882\n",
      "1: 1.1147036268900652\n",
      "0: 0.9952727519524867\n",
      "1: 0.9910853666108962\n",
      "0: 0.8674838228231474\n",
      "1: 0.9068667191233326\n",
      "0: 0.9565256888151012\n",
      "1: 0.8367019831727762\n",
      "0: 0.9206762507898893\n",
      "1: 1.0144040301035662\n",
      "0: 0.805960257268832\n",
      "1: 0.9702732053924059\n"
     ]
    },
    {
     "name": "stderr",
     "output_type": "stream",
     "text": [
      "  2%|▏         | 12/600 [00:00<00:17, 33.18it/s]"
     ]
    },
    {
     "name": "stdout",
     "output_type": "stream",
     "text": [
      "0: 0.8240279875489745\n",
      "1: 1.0341402306746263\n",
      "0: 0.9079308808772728\n",
      "1: 1.0692359074543734\n",
      "0: 0.5678494089618493\n",
      "1: 1.0745026549807708\n",
      "0: 0.8222129505696021\n",
      "1: 1.1112384600320748\n",
      "0: 0.7729103489869427\n",
      "1: 0.9733847692202349\n",
      "0: 0.4290998729509345\n",
      "1: 0.9927365868877192\n",
      "0: 0.4573131037535094\n",
      "1: 1.1348812515999962\n"
     ]
    },
    {
     "name": "stderr",
     "output_type": "stream",
     "text": [
      "  3%|▎         | 20/600 [00:00<00:18, 30.61it/s]"
     ]
    },
    {
     "name": "stdout",
     "output_type": "stream",
     "text": [
      "0: 0.5794990449596298\n",
      "1: 0.9160470372549215\n",
      "0: 0.6790142358107423\n",
      "1: 1.1111429296266304\n",
      "0: 0.8361816886584204\n",
      "1: 0.8929090696311245\n",
      "0: 0.7524614867627228\n",
      "1: 1.1239843768754891\n",
      "0: 0.6340535549785355\n",
      "1: 0.9953775070440041\n",
      "0: 0.7044072772613077\n",
      "1: 0.9378553902137732\n"
     ]
    },
    {
     "name": "stderr",
     "output_type": "stream",
     "text": [
      "  4%|▍         | 24/600 [00:00<00:20, 28.10it/s]"
     ]
    },
    {
     "name": "stdout",
     "output_type": "stream",
     "text": [
      "0: 0.6782952994758451\n",
      "1: 1.0647287528183151\n",
      "0: 0.6358925213798378\n",
      "1: 0.9085931566882586\n",
      "0: 0.6566751503013519\n",
      "1: 0.976507374603631\n",
      "0: 0.6650295632645509\n",
      "1: 0.9317314453016539\n",
      "0: 0.8196300512368582\n",
      "1: 0.9026869620349098\n"
     ]
    },
    {
     "name": "stderr",
     "output_type": "stream",
     "text": [
      "  5%|▌         | 30/600 [00:01<00:20, 27.19it/s]"
     ]
    },
    {
     "name": "stdout",
     "output_type": "stream",
     "text": [
      "0: 0.7323479796569982\n",
      "1: 0.9908216606046845\n",
      "0: 0.6498446401901806\n",
      "1: 1.0086901498365854\n",
      "0: 0.6057617272861957\n",
      "1: 1.0156540883112406\n",
      "0: 0.5192675209844817\n",
      "1: 1.0074931271206604\n",
      "0: 0.5278064693962768\n",
      "1: 1.1466332090425944\n",
      "0: 0.5603978455229489\n",
      "1: 0.8798260949384438\n"
     ]
    },
    {
     "name": "stderr",
     "output_type": "stream",
     "text": [
      "  6%|▌         | 36/600 [00:01<00:20, 27.67it/s]"
     ]
    },
    {
     "name": "stdout",
     "output_type": "stream",
     "text": [
      "0: 0.5420996877516124\n",
      "1: 0.9000548077503137\n",
      "0: 0.5472343782335338\n",
      "1: 1.1278646898794626\n",
      "0: 0.48224797613813886\n",
      "1: 1.0890626919794535\n",
      "0: 0.5649215248391537\n",
      "1: 1.020392717175529\n",
      "0: 0.52329252820271\n",
      "1: 0.8805375556130958\n",
      "0: 0.5851273505024615\n",
      "1: 1.1269212029706703\n",
      "0: 0.6399510449721149\n",
      "1: 0.9132185143757319\n"
     ]
    },
    {
     "name": "stderr",
     "output_type": "stream",
     "text": [
      "  7%|▋         | 43/600 [00:01<00:18, 29.78it/s]"
     ]
    },
    {
     "name": "stdout",
     "output_type": "stream",
     "text": [
      "0: 0.7112802004707739\n",
      "1: 0.9369238995685066\n",
      "0: 0.6767769957207904\n",
      "1: 0.9238131058741068\n",
      "0: 0.5912478951816531\n",
      "1: 0.9486295742321467\n",
      "0: 0.6009026570847867\n",
      "1: 0.9881024820137476\n",
      "0: 0.6009026570847867\n",
      "1: 0.9490389687347864\n",
      "0: 0.6630192177060436\n",
      "1: 0.8962483567524409\n",
      "0: 0.645907296116715\n",
      "1: 0.879274369530723\n"
     ]
    },
    {
     "name": "stderr",
     "output_type": "stream",
     "text": [
      "  8%|▊         | 49/600 [00:01<00:19, 28.76it/s]"
     ]
    },
    {
     "name": "stdout",
     "output_type": "stream",
     "text": [
      "0: 0.645907296116715\n",
      "1: 0.879274369530723\n",
      "0: 0.645907296116715\n",
      "1: 0.879274369530723\n",
      "0: 0.645907296116715\n",
      "1: 0.879274369530723\n",
      "0: 0.645907296116715\n",
      "1: 0.879274369530723\n",
      "0: 0.645907296116715\n",
      "1: 0.879274369530723\n",
      "0: 0.645907296116715\n",
      "1: 0.879274369530723\n",
      "0: 0.645907296116715\n",
      "1: 0.879274369530723\n"
     ]
    },
    {
     "name": "stderr",
     "output_type": "stream",
     "text": [
      " 10%|▉         | 57/600 [00:01<00:17, 31.25it/s]"
     ]
    },
    {
     "name": "stdout",
     "output_type": "stream",
     "text": [
      "0: 0.645907296116715\n",
      "1: 0.879274369530723\n",
      "0: 0.645907296116715\n",
      "1: 0.879274369530723\n",
      "0: 0.645907296116715\n",
      "1: 0.879274369530723\n",
      "0: 0.645907296116715\n",
      "1: 0.879274369530723\n",
      "0: 0.645907296116715\n",
      "1: 0.879274369530723\n",
      "0: 0.645907296116715\n",
      "1: 0.879274369530723\n",
      "0: 0.645907296116715\n",
      "1: 0.879274369530723\n"
     ]
    },
    {
     "name": "stderr",
     "output_type": "stream",
     "text": [
      " 11%|█         | 65/600 [00:02<00:16, 31.93it/s]"
     ]
    },
    {
     "name": "stdout",
     "output_type": "stream",
     "text": [
      "0: 0.645907296116715\n",
      "1: 0.879274369530723\n",
      "0: 0.645907296116715\n",
      "1: 0.879274369530723\n",
      "0: 0.645907296116715\n",
      "1: 0.879274369530723\n",
      "0: 0.645907296116715\n",
      "1: 0.879274369530723\n",
      "0: 0.645907296116715\n",
      "1: 0.879274369530723\n",
      "0: 0.645907296116715\n",
      "1: 0.879274369530723\n",
      "0: 0.645907296116715\n",
      "1: 0.879274369530723\n"
     ]
    },
    {
     "name": "stderr",
     "output_type": "stream",
     "text": [
      " 12%|█▏        | 69/600 [00:02<00:17, 30.38it/s]"
     ]
    },
    {
     "name": "stdout",
     "output_type": "stream",
     "text": [
      "0: 0.645907296116715\n",
      "1: 0.879274369530723\n",
      "0: 0.645907296116715\n",
      "1: 0.879274369530723\n",
      "0: 0.645907296116715\n",
      "1: 0.879274369530723\n",
      "0: 0.645907296116715\n",
      "1: 0.879274369530723\n",
      "0: 0.645907296116715\n",
      "1: 0.879274369530723\n",
      "0: 0.645907296116715\n",
      "1: 0.879274369530723\n"
     ]
    },
    {
     "name": "stderr",
     "output_type": "stream",
     "text": [
      " 13%|█▎        | 77/600 [00:02<00:16, 31.03it/s]"
     ]
    },
    {
     "name": "stdout",
     "output_type": "stream",
     "text": [
      "0: 0.645907296116715\n",
      "1: 0.879274369530723\n",
      "0: 0.645907296116715\n",
      "1: 0.879274369530723\n",
      "0: 0.645907296116715\n",
      "1: 0.879274369530723\n",
      "0: 0.645907296116715\n",
      "1: 0.879274369530723\n",
      "0: 0.645907296116715\n",
      "1: 0.879274369530723\n",
      "0: 0.645907296116715\n",
      "1: 0.879274369530723\n",
      "0: 0.645907296116715\n",
      "1: 0.879274369530723\n",
      "0: 0.645907296116715\n",
      "1: 0.879274369530723\n"
     ]
    },
    {
     "name": "stderr",
     "output_type": "stream",
     "text": [
      " 14%|█▍        | 86/600 [00:02<00:14, 35.26it/s]"
     ]
    },
    {
     "name": "stdout",
     "output_type": "stream",
     "text": [
      "0: 0.645907296116715\n",
      "1: 0.879274369530723\n",
      "0: 0.645907296116715\n",
      "1: 0.879274369530723\n",
      "0: 0.645907296116715\n",
      "1: 0.879274369530723\n",
      "0: 0.645907296116715\n",
      "1: 0.879274369530723\n",
      "0: 0.645907296116715\n",
      "1: 0.879274369530723\n",
      "0: 0.645907296116715\n",
      "1: 0.879274369530723\n",
      "0: 0.645907296116715\n",
      "1: 0.879274369530723\n",
      "0: 0.645907296116715\n",
      "1: 0.879274369530723\n"
     ]
    },
    {
     "name": "stderr",
     "output_type": "stream",
     "text": [
      " 16%|█▌        | 94/600 [00:02<00:14, 35.88it/s]"
     ]
    },
    {
     "name": "stdout",
     "output_type": "stream",
     "text": [
      "0: 0.645907296116715\n",
      "1: 0.879274369530723\n",
      "0: 0.645907296116715\n",
      "1: 0.879274369530723\n",
      "0: 0.645907296116715\n",
      "1: 0.879274369530723\n",
      "0: 0.645907296116715\n",
      "1: 0.879274369530723\n",
      "0: 0.645907296116715\n",
      "1: 0.879274369530723\n",
      "0: 0.645907296116715\n",
      "1: 0.879274369530723\n",
      "0: 0.645907296116715\n",
      "1: 0.879274369530723\n",
      "0: 0.645907296116715\n",
      "1: 0.879274369530723\n"
     ]
    },
    {
     "name": "stderr",
     "output_type": "stream",
     "text": [
      " 16%|█▋        | 98/600 [00:03<00:13, 36.39it/s]"
     ]
    },
    {
     "name": "stdout",
     "output_type": "stream",
     "text": [
      "0: 0.645907296116715\n",
      "1: 0.879274369530723\n",
      "0: 0.645907296116715\n",
      "1: 0.879274369530723\n",
      "0: 0.645907296116715\n",
      "1: 0.879274369530723\n",
      "0: 0.645907296116715\n",
      "1: 0.879274369530723\n"
     ]
    },
    {
     "data": {
      "image/png": "[encoded data removed]",
      "text/plain": [
       "<Figure size 640x480 with 1 Axes>"
      ]
     },
     "metadata": {},
     "output_type": "display_data"
    },
    {
     "name": "stderr",
     "output_type": "stream",
     "text": [
      " 18%|█▊        | 106/600 [00:03<00:17, 28.98it/s]"
     ]
    },
    {
     "name": "stdout",
     "output_type": "stream",
     "text": [
      "0: 0.645907296116715\n",
      "1: 0.879274369530723\n",
      "0: 0.645907296116715\n",
      "1: 0.879274369530723\n",
      "0: 0.645907296116715\n",
      "1: 0.879274369530723\n",
      "0: 0.645907296116715\n",
      "1: 0.879274369530723\n",
      "0: 0.645907296116715\n",
      "1: 0.879274369530723\n",
      "0: 0.645907296116715\n",
      "1: 0.879274369530723\n",
      "0: 0.645907296116715\n",
      "1: 0.879274369530723\n",
      "0: 0.645907296116715\n",
      "1: 0.879274369530723\n"
     ]
    },
    {
     "name": "stderr",
     "output_type": "stream",
     "text": [
      " 19%|█▉        | 114/600 [00:03<00:15, 31.36it/s]"
     ]
    },
    {
     "name": "stdout",
     "output_type": "stream",
     "text": [
      "0: 0.645907296116715\n",
      "1: 0.879274369530723\n",
      "0: 0.645907296116715\n",
      "1: 0.879274369530723\n",
      "0: 0.645907296116715\n",
      "1: 0.879274369530723\n",
      "0: 0.645907296116715\n",
      "1: 0.879274369530723\n",
      "0: 0.645907296116715\n",
      "1: 0.879274369530723\n",
      "0: 0.645907296116715\n",
      "1: 0.879274369530723\n",
      "0: 0.645907296116715\n",
      "1: 0.879274369530723\n"
     ]
    },
    {
     "name": "stderr",
     "output_type": "stream",
     "text": [
      " 20%|██        | 123/600 [00:03<00:13, 34.52it/s]"
     ]
    },
    {
     "name": "stdout",
     "output_type": "stream",
     "text": [
      "0: 0.645907296116715\n",
      "1: 0.879274369530723\n",
      "0: 0.645907296116715\n",
      "1: 0.879274369530723\n",
      "0: 0.645907296116715\n",
      "1: 0.879274369530723\n",
      "0: 0.645907296116715\n",
      "1: 0.879274369530723\n",
      "0: 0.645907296116715\n",
      "1: 0.879274369530723\n",
      "0: 0.645907296116715\n",
      "1: 0.879274369530723\n",
      "0: 0.645907296116715\n",
      "1: 0.879274369530723\n",
      "0: 0.645907296116715\n",
      "1: 0.879274369530723\n"
     ]
    },
    {
     "name": "stderr",
     "output_type": "stream",
     "text": [
      " 21%|██        | 127/600 [00:04<00:13, 35.41it/s]"
     ]
    },
    {
     "name": "stdout",
     "output_type": "stream",
     "text": [
      "0: 0.645907296116715\n",
      "1: 0.879274369530723\n",
      "0: 0.645907296116715\n",
      "1: 0.879274369530723\n",
      "0: 0.645907296116715\n",
      "1: 0.879274369530723\n",
      "0: 0.645907296116715\n",
      "1: 0.879274369530723\n",
      "0: 0.645907296116715\n",
      "1: 0.879274369530723\n",
      "0: 0.645907296116715\n",
      "1: 0.879274369530723\n"
     ]
    },
    {
     "name": "stderr",
     "output_type": "stream",
     "text": [
      " 22%|██▎       | 135/600 [00:04<00:14, 32.82it/s]"
     ]
    },
    {
     "name": "stdout",
     "output_type": "stream",
     "text": [
      "0: 0.645907296116715\n",
      "1: 0.879274369530723\n",
      "0: 0.645907296116715\n",
      "1: 0.879274369530723\n",
      "0: 0.645907296116715\n",
      "1: 0.879274369530723\n",
      "0: 0.645907296116715\n",
      "1: 0.879274369530723\n",
      "0: 0.645907296116715\n",
      "1: 0.879274369530723\n",
      "0: 0.645907296116715\n",
      "1: 0.879274369530723\n",
      "0: 0.645907296116715\n",
      "1: 0.879274369530723\n",
      "0: 0.645907296116715\n",
      "1: 0.879274369530723\n"
     ]
    },
    {
     "name": "stderr",
     "output_type": "stream",
     "text": [
      " 24%|██▍       | 144/600 [00:04<00:12, 35.20it/s]"
     ]
    },
    {
     "name": "stdout",
     "output_type": "stream",
     "text": [
      "0: 0.645907296116715\n",
      "1: 0.879274369530723\n",
      "0: 0.645907296116715\n",
      "1: 0.879274369530723\n",
      "0: 0.645907296116715\n",
      "1: 0.879274369530723\n",
      "0: 0.645907296116715\n",
      "1: 0.879274369530723\n",
      "0: 0.645907296116715\n",
      "1: 0.879274369530723\n",
      "0: 0.645907296116715\n",
      "1: 0.879274369530723\n",
      "0: 0.645907296116715\n",
      "1: 0.879274369530723\n",
      "0: 0.645907296116715\n",
      "1: 0.879274369530723\n"
     ]
    },
    {
     "name": "stderr",
     "output_type": "stream",
     "text": [
      " 25%|██▌       | 152/600 [00:04<00:12, 35.79it/s]"
     ]
    },
    {
     "name": "stdout",
     "output_type": "stream",
     "text": [
      "0: 0.645907296116715\n",
      "1: 0.879274369530723\n",
      "0: 0.645907296116715\n",
      "1: 0.879274369530723\n",
      "0: 0.645907296116715\n",
      "1: 0.879274369530723\n",
      "0: 0.645907296116715\n",
      "1: 0.879274369530723\n",
      "0: 0.645907296116715\n",
      "1: 0.879274369530723\n",
      "0: 0.645907296116715\n",
      "1: 0.879274369530723\n",
      "0: 0.645907296116715\n",
      "1: 0.879274369530723\n",
      "0: 0.645907296116715\n",
      "1: 0.879274369530723\n"
     ]
    },
    {
     "name": "stderr",
     "output_type": "stream",
     "text": [
      " 27%|██▋       | 160/600 [00:04<00:12, 33.91it/s]"
     ]
    },
    {
     "name": "stdout",
     "output_type": "stream",
     "text": [
      "0: 0.645907296116715\n",
      "1: 0.879274369530723\n",
      "0: 0.645907296116715\n",
      "1: 0.879274369530723\n",
      "0: 0.645907296116715\n",
      "1: 0.879274369530723\n",
      "0: 0.645907296116715\n",
      "1: 0.879274369530723\n",
      "0: 0.645907296116715\n",
      "1: 0.879274369530723\n",
      "0: 0.645907296116715\n",
      "1: 0.879274369530723\n",
      "0: 0.645907296116715\n",
      "1: 0.879274369530723\n"
     ]
    },
    {
     "name": "stderr",
     "output_type": "stream",
     "text": [
      " 27%|██▋       | 164/600 [00:05<00:12, 33.63it/s]"
     ]
    },
    {
     "name": "stdout",
     "output_type": "stream",
     "text": [
      "0: 0.645907296116715\n",
      "1: 0.879274369530723\n",
      "0: 0.645907296116715\n",
      "1: 0.879274369530723\n",
      "0: 0.645907296116715\n",
      "1: 0.879274369530723\n",
      "0: 0.645907296116715\n",
      "1: 0.879274369530723\n",
      "0: 0.645907296116715\n",
      "1: 0.879274369530723\n",
      "0: 0.645907296116715\n",
      "1: 0.879274369530723\n",
      "0: 0.645907296116715\n",
      "1: 0.879274369530723\n"
     ]
    },
    {
     "name": "stderr",
     "output_type": "stream",
     "text": [
      " 29%|██▊       | 172/600 [00:05<00:12, 33.12it/s]"
     ]
    },
    {
     "name": "stdout",
     "output_type": "stream",
     "text": [
      "0: 0.645907296116715\n",
      "1: 0.879274369530723\n",
      "0: 0.645907296116715\n",
      "1: 0.879274369530723\n",
      "0: 0.645907296116715\n",
      "1: 0.879274369530723\n",
      "0: 0.645907296116715\n",
      "1: 0.879274369530723\n",
      "0: 0.645907296116715\n",
      "1: 0.879274369530723\n",
      "0: 0.645907296116715\n",
      "1: 0.879274369530723\n",
      "0: 0.645907296116715\n",
      "1: 0.879274369530723\n"
     ]
    },
    {
     "name": "stderr",
     "output_type": "stream",
     "text": [
      " 30%|███       | 180/600 [00:05<00:12, 33.64it/s]"
     ]
    },
    {
     "name": "stdout",
     "output_type": "stream",
     "text": [
      "0: 0.645907296116715\n",
      "1: 0.879274369530723\n",
      "0: 0.645907296116715\n",
      "1: 0.879274369530723\n",
      "0: 0.645907296116715\n",
      "1: 0.879274369530723\n",
      "0: 0.645907296116715\n",
      "1: 0.879274369530723\n",
      "0: 0.645907296116715\n",
      "1: 0.879274369530723\n",
      "0: 0.645907296116715\n",
      "1: 0.879274369530723\n",
      "0: 0.645907296116715\n",
      "1: 0.879274369530723\n"
     ]
    },
    {
     "name": "stderr",
     "output_type": "stream",
     "text": [
      " 31%|███       | 184/600 [00:05<00:12, 34.31it/s]"
     ]
    },
    {
     "name": "stdout",
     "output_type": "stream",
     "text": [
      "0: 0.645907296116715\n",
      "1: 0.879274369530723\n",
      "0: 0.645907296116715\n",
      "1: 0.879274369530723\n",
      "0: 0.645907296116715\n",
      "1: 0.879274369530723\n",
      "0: 0.645907296116715\n",
      "1: 0.879274369530723\n",
      "0: 0.645907296116715\n",
      "1: 0.879274369530723\n",
      "0: 0.645907296116715\n",
      "1: 0.879274369530723\n"
     ]
    },
    {
     "name": "stderr",
     "output_type": "stream",
     "text": [
      " 32%|███▏      | 192/600 [00:05<00:13, 31.37it/s]"
     ]
    },
    {
     "name": "stdout",
     "output_type": "stream",
     "text": [
      "0: 0.645907296116715\n",
      "1: 0.879274369530723\n",
      "0: 0.645907296116715\n",
      "1: 0.879274369530723\n",
      "0: 0.645907296116715\n",
      "1: 0.879274369530723\n",
      "0: 0.645907296116715\n",
      "1: 0.879274369530723\n",
      "0: 0.645907296116715\n",
      "1: 0.879274369530723\n",
      "0: 0.645907296116715\n",
      "1: 0.879274369530723\n",
      "0: 0.645907296116715\n",
      "1: 0.879274369530723\n",
      "0: 0.645907296116715\n",
      "1: 0.879274369530723\n"
     ]
    },
    {
     "name": "stderr",
     "output_type": "stream",
     "text": [
      " 33%|███▎      | 197/600 [00:06<00:11, 34.40it/s]"
     ]
    },
    {
     "name": "stdout",
     "output_type": "stream",
     "text": [
      "0: 0.645907296116715\n",
      "1: 0.879274369530723\n",
      "0: 0.645907296116715\n",
      "1: 0.879274369530723\n",
      "0: 0.645907296116715\n",
      "1: 0.879274369530723\n",
      "0: 0.645907296116715\n",
      "1: 0.879274369530723\n",
      "0: 0.645907296116715\n",
      "1: 0.879274369530723\n"
     ]
    },
    {
     "data": {
      "image/png": "[encoded data removed]",
      "text/plain": [
       "<Figure size 640x480 with 1 Axes>"
      ]
     },
     "metadata": {},
     "output_type": "display_data"
    },
    {
     "name": "stderr",
     "output_type": "stream",
     "text": [
      " 34%|███▍      | 205/600 [00:06<00:14, 27.99it/s]"
     ]
    },
    {
     "name": "stdout",
     "output_type": "stream",
     "text": [
      "0: 0.645907296116715\n",
      "1: 0.879274369530723\n",
      "0: 0.645907296116715\n",
      "1: 0.879274369530723\n",
      "0: 0.645907296116715\n",
      "1: 0.879274369530723\n",
      "0: 0.645907296116715\n",
      "1: 0.879274369530723\n",
      "0: 0.645907296116715\n",
      "1: 0.879274369530723\n",
      "0: 0.645907296116715\n",
      "1: 0.879274369530723\n",
      "0: 0.645907296116715\n",
      "1: 0.879274369530723\n"
     ]
    },
    {
     "name": "stderr",
     "output_type": "stream",
     "text": [
      " 36%|███▌      | 214/600 [00:06<00:12, 32.05it/s]"
     ]
    },
    {
     "name": "stdout",
     "output_type": "stream",
     "text": [
      "0: 0.645907296116715\n",
      "1: 0.879274369530723\n",
      "0: 0.645907296116715\n",
      "1: 0.879274369530723\n",
      "0: 0.645907296116715\n",
      "1: 0.879274369530723\n",
      "0: 0.645907296116715\n",
      "1: 0.879274369530723\n",
      "0: 0.645907296116715\n",
      "1: 0.879274369530723\n",
      "0: 0.645907296116715\n",
      "1: 0.879274369530723\n",
      "0: 0.645907296116715\n",
      "1: 0.879274369530723\n",
      "0: 0.645907296116715\n",
      "1: 0.879274369530723\n"
     ]
    },
    {
     "name": "stderr",
     "output_type": "stream",
     "text": [
      " 36%|███▋      | 218/600 [00:06<00:11, 31.84it/s]"
     ]
    },
    {
     "name": "stdout",
     "output_type": "stream",
     "text": [
      "0: 0.645907296116715\n",
      "1: 0.879274369530723\n",
      "0: 0.645907296116715\n",
      "1: 0.879274369530723\n",
      "0: 0.645907296116715\n",
      "1: 0.879274369530723\n",
      "0: 0.645907296116715\n",
      "1: 0.879274369530723\n",
      "0: 0.645907296116715\n",
      "1: 0.879274369530723\n",
      "0: 0.645907296116715\n",
      "1: 0.879274369530723\n"
     ]
    },
    {
     "name": "stderr",
     "output_type": "stream",
     "text": [
      " 38%|███▊      | 226/600 [00:07<00:12, 30.01it/s]"
     ]
    },
    {
     "name": "stdout",
     "output_type": "stream",
     "text": [
      "0: 0.645907296116715\n",
      "1: 0.879274369530723\n",
      "0: 0.645907296116715\n",
      "1: 0.879274369530723\n",
      "0: 0.645907296116715\n",
      "1: 0.879274369530723\n",
      "0: 0.645907296116715\n",
      "1: 0.879274369530723\n",
      "0: 0.645907296116715\n",
      "1: 0.879274369530723\n",
      "0: 0.645907296116715\n",
      "1: 0.879274369530723\n"
     ]
    },
    {
     "name": "stderr",
     "output_type": "stream",
     "text": [
      " 38%|███▊      | 230/600 [00:07<00:12, 29.84it/s]"
     ]
    },
    {
     "name": "stdout",
     "output_type": "stream",
     "text": [
      "0: 0.645907296116715\n",
      "1: 0.879274369530723\n",
      "0: 0.645907296116715\n",
      "1: 0.879274369530723\n",
      "0: 0.645907296116715\n",
      "1: 0.879274369530723\n",
      "0: 0.645907296116715\n",
      "1: 0.879274369530723\n",
      "0: 0.645907296116715\n",
      "1: 0.879274369530723\n",
      "0: 0.645907296116715\n",
      "1: 0.879274369530723\n"
     ]
    },
    {
     "name": "stderr",
     "output_type": "stream",
     "text": [
      " 40%|███▉      | 238/600 [00:07<00:13, 26.76it/s]"
     ]
    },
    {
     "name": "stdout",
     "output_type": "stream",
     "text": [
      "0: 0.645907296116715\n",
      "1: 0.879274369530723\n",
      "0: 0.645907296116715\n",
      "1: 0.879274369530723\n",
      "0: 0.645907296116715\n",
      "1: 0.879274369530723\n",
      "0: 0.645907296116715\n",
      "1: 0.879274369530723\n",
      "0: 0.645907296116715\n",
      "1: 0.879274369530723\n"
     ]
    },
    {
     "name": "stderr",
     "output_type": "stream",
     "text": [
      " 41%|████      | 246/600 [00:07<00:11, 30.34it/s]"
     ]
    },
    {
     "name": "stdout",
     "output_type": "stream",
     "text": [
      "0: 0.645907296116715\n",
      "1: 0.879274369530723\n",
      "0: 0.645907296116715\n",
      "1: 0.879274369530723\n",
      "0: 0.645907296116715\n",
      "1: 0.879274369530723\n",
      "0: 0.645907296116715\n",
      "1: 0.879274369530723\n",
      "0: 0.645907296116715\n",
      "1: 0.879274369530723\n",
      "0: 0.645907296116715\n",
      "1: 0.879274369530723\n",
      "0: 0.645907296116715\n",
      "1: 0.879274369530723\n",
      "0: 0.645907296116715\n",
      "1: 0.879274369530723\n"
     ]
    },
    {
     "name": "stderr",
     "output_type": "stream",
     "text": [
      " 42%|████▏     | 254/600 [00:08<00:10, 33.22it/s]"
     ]
    },
    {
     "name": "stdout",
     "output_type": "stream",
     "text": [
      "0: 0.645907296116715\n",
      "1: 0.879274369530723\n",
      "0: 0.645907296116715\n",
      "1: 0.879274369530723\n",
      "0: 0.645907296116715\n",
      "1: 0.879274369530723\n",
      "0: 0.645907296116715\n",
      "1: 0.879274369530723\n",
      "0: 0.645907296116715\n",
      "1: 0.879274369530723\n",
      "0: 0.645907296116715\n",
      "1: 0.879274369530723\n",
      "0: 0.645907296116715\n",
      "1: 0.879274369530723\n",
      "0: 0.645907296116715\n",
      "1: 0.879274369530723\n"
     ]
    },
    {
     "name": "stderr",
     "output_type": "stream",
     "text": [
      " 43%|████▎     | 258/600 [00:08<00:10, 34.00it/s]"
     ]
    },
    {
     "name": "stdout",
     "output_type": "stream",
     "text": [
      "0: 0.645907296116715\n",
      "1: 0.879274369530723\n",
      "0: 0.645907296116715\n",
      "1: 0.879274369530723\n",
      "0: 0.645907296116715\n",
      "1: 0.879274369530723\n",
      "0: 0.645907296116715\n",
      "1: 0.879274369530723\n",
      "0: 0.645907296116715\n",
      "1: 0.879274369530723\n",
      "0: 0.645907296116715\n",
      "1: 0.879274369530723\n",
      "0: 0.645907296116715\n",
      "1: 0.879274369530723\n"
     ]
    },
    {
     "name": "stderr",
     "output_type": "stream",
     "text": [
      " 44%|████▍     | 266/600 [00:08<00:10, 32.44it/s]"
     ]
    },
    {
     "name": "stdout",
     "output_type": "stream",
     "text": [
      "0: 0.645907296116715\n",
      "1: 0.879274369530723\n",
      "0: 0.645907296116715\n",
      "1: 0.879274369530723\n",
      "0: 0.645907296116715\n",
      "1: 0.879274369530723\n",
      "0: 0.645907296116715\n",
      "1: 0.879274369530723\n",
      "0: 0.645907296116715\n",
      "1: 0.879274369530723\n",
      "0: 0.645907296116715\n",
      "1: 0.879274369530723\n",
      "0: 0.645907296116715\n",
      "1: 0.879274369530723\n"
     ]
    },
    {
     "name": "stderr",
     "output_type": "stream",
     "text": [
      " 46%|████▌     | 274/600 [00:08<00:09, 34.27it/s]"
     ]
    },
    {
     "name": "stdout",
     "output_type": "stream",
     "text": [
      "0: 0.645907296116715\n",
      "1: 0.879274369530723\n",
      "0: 0.645907296116715\n",
      "1: 0.879274369530723\n",
      "0: 0.645907296116715\n",
      "1: 0.879274369530723\n",
      "0: 0.645907296116715\n",
      "1: 0.879274369530723\n",
      "0: 0.645907296116715\n",
      "1: 0.879274369530723\n",
      "0: 0.645907296116715\n",
      "1: 0.879274369530723\n",
      "0: 0.645907296116715\n",
      "1: 0.879274369530723\n",
      "0: 0.645907296116715\n",
      "1: 0.879274369530723\n"
     ]
    },
    {
     "name": "stderr",
     "output_type": "stream",
     "text": [
      " 47%|████▋     | 283/600 [00:08<00:09, 34.32it/s]"
     ]
    },
    {
     "name": "stdout",
     "output_type": "stream",
     "text": [
      "0: 0.645907296116715\n",
      "1: 0.879274369530723\n",
      "0: 0.645907296116715\n",
      "1: 0.879274369530723\n",
      "0: 0.645907296116715\n",
      "1: 0.879274369530723\n",
      "0: 0.645907296116715\n",
      "1: 0.879274369530723\n",
      "0: 0.645907296116715\n",
      "1: 0.879274369530723\n",
      "0: 0.645907296116715\n",
      "1: 0.879274369530723\n",
      "0: 0.645907296116715\n",
      "1: 0.879274369530723\n"
     ]
    },
    {
     "name": "stderr",
     "output_type": "stream",
     "text": [
      " 48%|████▊     | 287/600 [00:09<00:09, 31.79it/s]"
     ]
    },
    {
     "name": "stdout",
     "output_type": "stream",
     "text": [
      "0: 0.645907296116715\n",
      "1: 0.879274369530723\n",
      "0: 0.645907296116715\n",
      "1: 0.879274369530723\n",
      "0: 0.645907296116715\n",
      "1: 0.879274369530723\n",
      "0: 0.645907296116715\n",
      "1: 0.879274369530723\n",
      "0: 0.645907296116715\n",
      "1: 0.879274369530723\n"
     ]
    },
    {
     "name": "stderr",
     "output_type": "stream",
     "text": [
      " 49%|████▉     | 295/600 [00:09<00:10, 29.70it/s]"
     ]
    },
    {
     "name": "stdout",
     "output_type": "stream",
     "text": [
      "0: 0.645907296116715\n",
      "1: 0.879274369530723\n",
      "0: 0.645907296116715\n",
      "1: 0.879274369530723\n",
      "0: 0.645907296116715\n",
      "1: 0.879274369530723\n",
      "0: 0.645907296116715\n",
      "1: 0.879274369530723\n",
      "0: 0.645907296116715\n",
      "1: 0.879274369530723\n",
      "0: 0.645907296116715\n",
      "1: 0.879274369530723\n",
      "0: 0.645907296116715\n",
      "1: 0.879274369530723\n"
     ]
    },
    {
     "name": "stderr",
     "output_type": "stream",
     "text": [
      " 50%|████▉     | 299/600 [00:09<00:09, 31.53it/s]"
     ]
    },
    {
     "name": "stdout",
     "output_type": "stream",
     "text": [
      "0: 0.645907296116715\n",
      "1: 0.879274369530723\n",
      "0: 0.645907296116715\n",
      "1: 0.879274369530723\n",
      "0: 0.645907296116715\n",
      "1: 0.879274369530723\n",
      "0: 0.645907296116715\n",
      "1: 0.879274369530723\n",
      "0: 0.645907296116715\n",
      "1: 0.879274369530723\n"
     ]
    },
    {
     "data": {
      "image/png": "[encoded data removed]",
      "text/plain": [
       "<Figure size 640x480 with 1 Axes>"
      ]
     },
     "metadata": {},
     "output_type": "display_data"
    },
    {
     "name": "stderr",
     "output_type": "stream",
     "text": [
      " 51%|█████     | 307/600 [00:09<00:10, 27.24it/s]"
     ]
    },
    {
     "name": "stdout",
     "output_type": "stream",
     "text": [
      "0: 0.645907296116715\n",
      "1: 0.879274369530723\n",
      "0: 0.645907296116715\n",
      "1: 0.879274369530723\n",
      "0: 0.645907296116715\n",
      "1: 0.879274369530723\n",
      "0: 0.645907296116715\n",
      "1: 0.879274369530723\n",
      "0: 0.645907296116715\n",
      "1: 0.879274369530723\n",
      "0: 0.645907296116715\n",
      "1: 0.879274369530723\n",
      "0: 0.645907296116715\n",
      "1: 0.879274369530723\n",
      "0: 0.645907296116715\n",
      "1: 0.879274369530723\n"
     ]
    },
    {
     "name": "stderr",
     "output_type": "stream",
     "text": [
      " 52%|█████▎    | 315/600 [00:09<00:09, 31.35it/s]"
     ]
    },
    {
     "name": "stdout",
     "output_type": "stream",
     "text": [
      "0: 0.645907296116715\n",
      "1: 0.879274369530723\n",
      "0: 0.645907296116715\n",
      "1: 0.879274369530723\n",
      "0: 0.645907296116715\n",
      "1: 0.879274369530723\n",
      "0: 0.645907296116715\n",
      "1: 0.879274369530723\n",
      "0: 0.645907296116715\n",
      "1: 0.879274369530723\n",
      "0: 0.645907296116715\n",
      "1: 0.879274369530723\n",
      "0: 0.645907296116715\n",
      "1: 0.879274369530723\n",
      "0: 0.645907296116715\n",
      "1: 0.879274369530723\n"
     ]
    },
    {
     "name": "stderr",
     "output_type": "stream",
     "text": [
      " 54%|█████▍    | 323/600 [00:10<00:08, 33.74it/s]"
     ]
    },
    {
     "name": "stdout",
     "output_type": "stream",
     "text": [
      "0: 0.645907296116715\n",
      "1: 0.879274369530723\n",
      "0: 0.645907296116715\n",
      "1: 0.879274369530723\n",
      "0: 0.645907296116715\n",
      "1: 0.879274369530723\n",
      "0: 0.645907296116715\n",
      "1: 0.879274369530723\n",
      "0: 0.645907296116715\n",
      "1: 0.879274369530723\n",
      "0: 0.645907296116715\n",
      "1: 0.879274369530723\n",
      "0: 0.645907296116715\n",
      "1: 0.879274369530723\n",
      "0: 0.645907296116715\n",
      "1: 0.879274369530723\n"
     ]
    },
    {
     "name": "stderr",
     "output_type": "stream",
     "text": [
      " 55%|█████▌    | 331/600 [00:10<00:08, 32.86it/s]"
     ]
    },
    {
     "name": "stdout",
     "output_type": "stream",
     "text": [
      "0: 0.645907296116715\n",
      "1: 0.879274369530723\n",
      "0: 0.645907296116715\n",
      "1: 0.879274369530723\n",
      "0: 0.645907296116715\n",
      "1: 0.879274369530723\n",
      "0: 0.645907296116715\n",
      "1: 0.879274369530723\n",
      "0: 0.645907296116715\n",
      "1: 0.879274369530723\n",
      "0: 0.645907296116715\n",
      "1: 0.879274369530723\n",
      "0: 0.645907296116715\n",
      "1: 0.879274369530723\n"
     ]
    },
    {
     "name": "stderr",
     "output_type": "stream",
     "text": [
      " 56%|█████▌    | 335/600 [00:10<00:08, 29.50it/s]"
     ]
    },
    {
     "name": "stdout",
     "output_type": "stream",
     "text": [
      "0: 0.645907296116715\n",
      "1: 0.879274369530723\n",
      "0: 0.645907296116715\n",
      "1: 0.879274369530723\n",
      "0: 0.645907296116715\n",
      "1: 0.879274369530723\n",
      "0: 0.645907296116715\n",
      "1: 0.879274369530723\n",
      "0: 0.645907296116715\n",
      "1: 0.879274369530723\n",
      "0: 0.645907296116715\n",
      "1: 0.879274369530723\n",
      "0: 0.645907296116715\n",
      "1: 0.879274369530723\n"
     ]
    },
    {
     "name": "stderr",
     "output_type": "stream",
     "text": [
      " 57%|█████▋    | 343/600 [00:10<00:07, 32.53it/s]"
     ]
    },
    {
     "name": "stdout",
     "output_type": "stream",
     "text": [
      "0: 0.645907296116715\n",
      "1: 0.879274369530723\n",
      "0: 0.645907296116715\n",
      "1: 0.879274369530723\n",
      "0: 0.645907296116715\n",
      "1: 0.879274369530723\n",
      "0: 0.645907296116715\n",
      "1: 0.879274369530723\n",
      "0: 0.645907296116715\n",
      "1: 0.879274369530723\n",
      "0: 0.645907296116715\n",
      "1: 0.879274369530723\n",
      "0: 0.645907296116715\n",
      "1: 0.879274369530723\n"
     ]
    },
    {
     "name": "stderr",
     "output_type": "stream",
     "text": [
      " 58%|█████▊    | 351/600 [00:11<00:08, 31.08it/s]"
     ]
    },
    {
     "name": "stdout",
     "output_type": "stream",
     "text": [
      "0: 0.645907296116715\n",
      "1: 0.879274369530723\n",
      "0: 0.645907296116715\n",
      "1: 0.879274369530723\n",
      "0: 0.645907296116715\n",
      "1: 0.879274369530723\n",
      "0: 0.645907296116715\n",
      "1: 0.879274369530723\n",
      "0: 0.645907296116715\n",
      "1: 0.879274369530723\n",
      "0: 0.645907296116715\n",
      "1: 0.879274369530723\n"
     ]
    },
    {
     "name": "stderr",
     "output_type": "stream",
     "text": [
      " 59%|█████▉    | 355/600 [00:11<00:07, 30.85it/s]"
     ]
    },
    {
     "name": "stdout",
     "output_type": "stream",
     "text": [
      "0: 0.645907296116715\n",
      "1: 0.879274369530723\n",
      "0: 0.645907296116715\n",
      "1: 0.879274369530723\n",
      "0: 0.645907296116715\n",
      "1: 0.879274369530723\n",
      "0: 0.645907296116715\n",
      "1: 0.879274369530723\n",
      "0: 0.645907296116715\n",
      "1: 0.879274369530723\n",
      "0: 0.645907296116715\n",
      "1: 0.879274369530723\n",
      "0: 0.645907296116715\n",
      "1: 0.879274369530723\n"
     ]
    },
    {
     "name": "stderr",
     "output_type": "stream",
     "text": [
      " 60%|██████    | 363/600 [00:11<00:07, 30.99it/s]"
     ]
    },
    {
     "name": "stdout",
     "output_type": "stream",
     "text": [
      "0: 0.645907296116715\n",
      "1: 0.879274369530723\n",
      "0: 0.645907296116715\n",
      "1: 0.879274369530723\n",
      "0: 0.645907296116715\n",
      "1: 0.879274369530723\n",
      "0: 0.645907296116715\n",
      "1: 0.879274369530723\n",
      "0: 0.645907296116715\n",
      "1: 0.879274369530723\n",
      "0: 0.645907296116715\n",
      "1: 0.879274369530723\n",
      "0: 0.645907296116715\n",
      "1: 0.879274369530723\n"
     ]
    },
    {
     "name": "stderr",
     "output_type": "stream",
     "text": [
      " 62%|██████▏   | 371/600 [00:11<00:06, 33.43it/s]"
     ]
    },
    {
     "name": "stdout",
     "output_type": "stream",
     "text": [
      "0: 0.645907296116715\n",
      "1: 0.879274369530723\n",
      "0: 0.645907296116715\n",
      "1: 0.879274369530723\n",
      "0: 0.645907296116715\n",
      "1: 0.879274369530723\n",
      "0: 0.645907296116715\n",
      "1: 0.879274369530723\n",
      "0: 0.645907296116715\n",
      "1: 0.879274369530723\n",
      "0: 0.645907296116715\n",
      "1: 0.879274369530723\n",
      "0: 0.645907296116715\n",
      "1: 0.879274369530723\n",
      "0: 0.645907296116715\n",
      "1: 0.879274369530723\n"
     ]
    },
    {
     "name": "stderr",
     "output_type": "stream",
     "text": [
      " 63%|██████▎   | 379/600 [00:11<00:06, 33.35it/s]"
     ]
    },
    {
     "name": "stdout",
     "output_type": "stream",
     "text": [
      "0: 0.645907296116715\n",
      "1: 0.879274369530723\n",
      "0: 0.645907296116715\n",
      "1: 0.879274369530723\n",
      "0: 0.645907296116715\n",
      "1: 0.879274369530723\n",
      "0: 0.645907296116715\n",
      "1: 0.879274369530723\n",
      "0: 0.645907296116715\n",
      "1: 0.879274369530723\n",
      "0: 0.645907296116715\n",
      "1: 0.879274369530723\n",
      "0: 0.645907296116715\n",
      "1: 0.879274369530723\n"
     ]
    },
    {
     "name": "stderr",
     "output_type": "stream",
     "text": [
      " 64%|██████▍   | 383/600 [00:12<00:06, 31.11it/s]"
     ]
    },
    {
     "name": "stdout",
     "output_type": "stream",
     "text": [
      "0: 0.645907296116715\n",
      "1: 0.879274369530723\n",
      "0: 0.645907296116715\n",
      "1: 0.879274369530723\n",
      "0: 0.645907296116715\n",
      "1: 0.879274369530723\n",
      "0: 0.645907296116715\n",
      "1: 0.879274369530723\n",
      "0: 0.645907296116715\n",
      "1: 0.879274369530723\n",
      "0: 0.645907296116715\n",
      "1: 0.879274369530723\n"
     ]
    },
    {
     "name": "stderr",
     "output_type": "stream",
     "text": [
      " 65%|██████▌   | 391/600 [00:12<00:06, 32.37it/s]"
     ]
    },
    {
     "name": "stdout",
     "output_type": "stream",
     "text": [
      "0: 0.645907296116715\n",
      "1: 0.879274369530723\n",
      "0: 0.645907296116715\n",
      "1: 0.879274369530723\n",
      "0: 0.645907296116715\n",
      "1: 0.879274369530723\n",
      "0: 0.645907296116715\n",
      "1: 0.879274369530723\n",
      "0: 0.645907296116715\n",
      "1: 0.879274369530723\n",
      "0: 0.645907296116715\n",
      "1: 0.879274369530723\n",
      "0: 0.645907296116715\n",
      "1: 0.879274369530723\n"
     ]
    },
    {
     "name": "stderr",
     "output_type": "stream",
     "text": [
      " 66%|██████▋   | 399/600 [00:12<00:06, 31.17it/s]"
     ]
    },
    {
     "name": "stdout",
     "output_type": "stream",
     "text": [
      "0: 0.645907296116715\n",
      "1: 0.879274369530723\n",
      "0: 0.645907296116715\n",
      "1: 0.879274369530723\n",
      "0: 0.645907296116715\n",
      "1: 0.879274369530723\n",
      "0: 0.645907296116715\n",
      "1: 0.879274369530723\n",
      "0: 0.645907296116715\n",
      "1: 0.879274369530723\n",
      "0: 0.645907296116715\n",
      "1: 0.879274369530723\n",
      "0: 0.645907296116715\n",
      "1: 0.879274369530723\n"
     ]
    },
    {
     "data": {
      "image/png": "[encoded data removed]",
      "text/plain": [
       "<Figure size 640x480 with 1 Axes>"
      ]
     },
     "metadata": {},
     "output_type": "display_data"
    },
    {
     "name": "stderr",
     "output_type": "stream",
     "text": [
      " 68%|██████▊   | 406/600 [00:13<00:08, 23.47it/s]"
     ]
    },
    {
     "name": "stdout",
     "output_type": "stream",
     "text": [
      "0: 0.645907296116715\n",
      "1: 0.879274369530723\n",
      "0: 0.645907296116715\n",
      "1: 0.879274369530723\n",
      "0: 0.645907296116715\n",
      "1: 0.879274369530723\n",
      "0: 0.645907296116715\n",
      "1: 0.879274369530723\n",
      "0: 0.645907296116715\n",
      "1: 0.879274369530723\n",
      "0: 0.645907296116715\n",
      "1: 0.879274369530723\n"
     ]
    },
    {
     "name": "stderr",
     "output_type": "stream",
     "text": [
      " 69%|██████▉   | 413/600 [00:13<00:07, 26.32it/s]"
     ]
    },
    {
     "name": "stdout",
     "output_type": "stream",
     "text": [
      "0: 0.645907296116715\n",
      "1: 0.879274369530723\n",
      "0: 0.645907296116715\n",
      "1: 0.879274369530723\n",
      "0: 0.645907296116715\n",
      "1: 0.879274369530723\n",
      "0: 0.645907296116715\n",
      "1: 0.879274369530723\n",
      "0: 0.645907296116715\n",
      "1: 0.879274369530723\n",
      "0: 0.645907296116715\n",
      "1: 0.879274369530723\n",
      "0: 0.645907296116715\n",
      "1: 0.879274369530723\n"
     ]
    },
    {
     "name": "stderr",
     "output_type": "stream",
     "text": [
      " 70%|██████▉   | 419/600 [00:13<00:06, 27.65it/s]"
     ]
    },
    {
     "name": "stdout",
     "output_type": "stream",
     "text": [
      "0: 0.645907296116715\n",
      "1: 0.879274369530723\n",
      "0: 0.645907296116715\n",
      "1: 0.879274369530723\n",
      "0: 0.645907296116715\n",
      "1: 0.879274369530723\n",
      "0: 0.645907296116715\n",
      "1: 0.879274369530723\n",
      "0: 0.645907296116715\n",
      "1: 0.879274369530723\n",
      "0: 0.645907296116715\n",
      "1: 0.879274369530723\n"
     ]
    },
    {
     "name": "stderr",
     "output_type": "stream",
     "text": [
      " 71%|███████   | 425/600 [00:13<00:06, 27.45it/s]"
     ]
    },
    {
     "name": "stdout",
     "output_type": "stream",
     "text": [
      "0: 0.645907296116715\n",
      "1: 0.879274369530723\n",
      "0: 0.645907296116715\n",
      "1: 0.879274369530723\n",
      "0: 0.645907296116715\n",
      "1: 0.879274369530723\n",
      "0: 0.645907296116715\n",
      "1: 0.879274369530723\n",
      "0: 0.645907296116715\n",
      "1: 0.879274369530723\n",
      "0: 0.645907296116715\n",
      "1: 0.879274369530723\n"
     ]
    },
    {
     "name": "stderr",
     "output_type": "stream",
     "text": [
      " 71%|███████▏  | 428/600 [00:13<00:06, 27.81it/s]"
     ]
    },
    {
     "name": "stdout",
     "output_type": "stream",
     "text": [
      "0: 0.645907296116715\n",
      "1: 0.879274369530723\n",
      "0: 0.645907296116715\n",
      "1: 0.879274369530723\n",
      "0: 0.645907296116715\n",
      "1: 0.879274369530723\n",
      "0: 0.645907296116715\n",
      "1: 0.879274369530723\n",
      "0: 0.645907296116715\n",
      "1: 0.879274369530723\n"
     ]
    },
    {
     "name": "stderr",
     "output_type": "stream",
     "text": [
      " 72%|███████▏  | 434/600 [00:14<00:06, 26.28it/s]"
     ]
    },
    {
     "name": "stdout",
     "output_type": "stream",
     "text": [
      "0: 0.645907296116715\n",
      "1: 0.879274369530723\n",
      "0: 0.645907296116715\n",
      "1: 0.879274369530723\n",
      "0: 0.645907296116715\n",
      "1: 0.879274369530723\n",
      "0: 0.645907296116715\n",
      "1: 0.879274369530723\n",
      "0: 0.645907296116715\n",
      "1: 0.879274369530723\n",
      "0: 0.645907296116715\n",
      "1: 0.879274369530723\n",
      "0: 0.645907296116715\n",
      "1: 0.879274369530723\n"
     ]
    },
    {
     "name": "stderr",
     "output_type": "stream",
     "text": [
      " 74%|███████▎  | 441/600 [00:14<00:05, 28.14it/s]"
     ]
    },
    {
     "name": "stdout",
     "output_type": "stream",
     "text": [
      "0: 0.645907296116715\n",
      "1: 0.879274369530723\n",
      "0: 0.645907296116715\n",
      "1: 0.879274369530723\n",
      "0: 0.645907296116715\n",
      "1: 0.879274369530723\n",
      "0: 0.645907296116715\n",
      "1: 0.879274369530723\n",
      "0: 0.645907296116715\n",
      "1: 0.879274369530723\n",
      "0: 0.645907296116715\n",
      "1: 0.879274369530723\n",
      "0: 0.645907296116715\n",
      "1: 0.879274369530723\n"
     ]
    },
    {
     "name": "stderr",
     "output_type": "stream",
     "text": [
      " 75%|███████▍  | 449/600 [00:14<00:04, 31.37it/s]"
     ]
    },
    {
     "name": "stdout",
     "output_type": "stream",
     "text": [
      "0: 0.645907296116715\n",
      "1: 0.879274369530723\n",
      "0: 0.645907296116715\n",
      "1: 0.879274369530723\n",
      "0: 0.645907296116715\n",
      "1: 0.879274369530723\n",
      "0: 0.645907296116715\n",
      "1: 0.879274369530723\n",
      "0: 0.645907296116715\n",
      "1: 0.879274369530723\n",
      "0: 0.645907296116715\n",
      "1: 0.879274369530723\n",
      "0: 0.645907296116715\n",
      "1: 0.879274369530723\n"
     ]
    },
    {
     "name": "stderr",
     "output_type": "stream",
     "text": [
      " 76%|███████▌  | 457/600 [00:14<00:04, 31.38it/s]"
     ]
    },
    {
     "name": "stdout",
     "output_type": "stream",
     "text": [
      "0: 0.645907296116715\n",
      "1: 0.879274369530723\n",
      "0: 0.645907296116715\n",
      "1: 0.879274369530723\n",
      "0: 0.645907296116715\n",
      "1: 0.879274369530723\n",
      "0: 0.645907296116715\n",
      "1: 0.879274369530723\n",
      "0: 0.645907296116715\n",
      "1: 0.879274369530723\n",
      "0: 0.645907296116715\n",
      "1: 0.879274369530723\n",
      "0: 0.645907296116715\n",
      "1: 0.879274369530723\n"
     ]
    },
    {
     "name": "stderr",
     "output_type": "stream",
     "text": [
      " 78%|███████▊  | 465/600 [00:14<00:04, 33.11it/s]"
     ]
    },
    {
     "name": "stdout",
     "output_type": "stream",
     "text": [
      "0: 0.645907296116715\n",
      "1: 0.879274369530723\n",
      "0: 0.645907296116715\n",
      "1: 0.879274369530723\n",
      "0: 0.645907296116715\n",
      "1: 0.879274369530723\n",
      "0: 0.645907296116715\n",
      "1: 0.879274369530723\n",
      "0: 0.645907296116715\n",
      "1: 0.879274369530723\n",
      "0: 0.645907296116715\n",
      "1: 0.879274369530723\n",
      "0: 0.645907296116715\n",
      "1: 0.879274369530723\n",
      "0: 0.645907296116715\n",
      "1: 0.879274369530723\n"
     ]
    },
    {
     "name": "stderr",
     "output_type": "stream",
     "text": [
      " 79%|███████▉  | 473/600 [00:15<00:03, 34.54it/s]"
     ]
    },
    {
     "name": "stdout",
     "output_type": "stream",
     "text": [
      "0: 0.645907296116715\n",
      "1: 0.879274369530723\n",
      "0: 0.645907296116715\n",
      "1: 0.879274369530723\n",
      "0: 0.645907296116715\n",
      "1: 0.879274369530723\n",
      "0: 0.645907296116715\n",
      "1: 0.879274369530723\n",
      "0: 0.645907296116715\n",
      "1: 0.879274369530723\n",
      "0: 0.645907296116715\n",
      "1: 0.879274369530723\n",
      "0: 0.645907296116715\n",
      "1: 0.879274369530723\n",
      "0: 0.645907296116715\n",
      "1: 0.879274369530723\n"
     ]
    },
    {
     "name": "stderr",
     "output_type": "stream",
     "text": [
      " 80%|████████  | 481/600 [00:15<00:03, 33.86it/s]"
     ]
    },
    {
     "name": "stdout",
     "output_type": "stream",
     "text": [
      "0: 0.645907296116715\n",
      "1: 0.879274369530723\n",
      "0: 0.645907296116715\n",
      "1: 0.879274369530723\n",
      "0: 0.645907296116715\n",
      "1: 0.879274369530723\n",
      "0: 0.645907296116715\n",
      "1: 0.879274369530723\n",
      "0: 0.645907296116715\n",
      "1: 0.879274369530723\n",
      "0: 0.645907296116715\n",
      "1: 0.879274369530723\n",
      "0: 0.645907296116715\n",
      "1: 0.879274369530723\n"
     ]
    },
    {
     "name": "stderr",
     "output_type": "stream",
     "text": [
      " 81%|████████  | 485/600 [00:15<00:03, 32.92it/s]"
     ]
    },
    {
     "name": "stdout",
     "output_type": "stream",
     "text": [
      "0: 0.645907296116715\n",
      "1: 0.879274369530723\n",
      "0: 0.645907296116715\n",
      "1: 0.879274369530723\n",
      "0: 0.645907296116715\n",
      "1: 0.879274369530723\n",
      "0: 0.645907296116715\n",
      "1: 0.879274369530723\n",
      "0: 0.645907296116715\n",
      "1: 0.879274369530723\n",
      "0: 0.645907296116715\n",
      "1: 0.879274369530723\n",
      "0: 0.645907296116715\n",
      "1: 0.879274369530723\n"
     ]
    },
    {
     "name": "stderr",
     "output_type": "stream",
     "text": [
      " 82%|████████▏ | 493/600 [00:15<00:03, 33.93it/s]"
     ]
    },
    {
     "name": "stdout",
     "output_type": "stream",
     "text": [
      "0: 0.645907296116715\n",
      "1: 0.879274369530723\n",
      "0: 0.645907296116715\n",
      "1: 0.879274369530723\n",
      "0: 0.645907296116715\n",
      "1: 0.879274369530723\n",
      "0: 0.645907296116715\n",
      "1: 0.879274369530723\n",
      "0: 0.645907296116715\n",
      "1: 0.879274369530723\n",
      "0: 0.645907296116715\n",
      "1: 0.879274369530723\n",
      "0: 0.645907296116715\n",
      "1: 0.879274369530723\n"
     ]
    },
    {
     "name": "stderr",
     "output_type": "stream",
     "text": [
      " 83%|████████▎ | 497/600 [00:15<00:03, 30.76it/s]"
     ]
    },
    {
     "name": "stdout",
     "output_type": "stream",
     "text": [
      "0: 0.645907296116715\n",
      "1: 0.879274369530723\n",
      "0: 0.645907296116715\n",
      "1: 0.879274369530723\n",
      "0: 0.645907296116715\n",
      "1: 0.879274369530723\n",
      "0: 0.645907296116715\n",
      "1: 0.879274369530723\n",
      "0: 0.645907296116715\n",
      "1: 0.879274369530723\n"
     ]
    },
    {
     "data": {
      "image/png": "[encoded data removed]",
      "text/plain": [
       "<Figure size 640x480 with 1 Axes>"
      ]
     },
     "metadata": {},
     "output_type": "display_data"
    },
    {
     "name": "stdout",
     "output_type": "stream",
     "text": [
      "0: 0.645907296116715\n",
      "1: 0.879274369530723\n"
     ]
    },
    {
     "name": "stderr",
     "output_type": "stream",
     "text": [
      " 84%|████████▍ | 504/600 [00:16<00:04, 22.12it/s]"
     ]
    },
    {
     "name": "stdout",
     "output_type": "stream",
     "text": [
      "0: 0.645907296116715\n",
      "1: 0.879274369530723\n",
      "0: 0.645907296116715\n",
      "1: 0.879274369530723\n",
      "0: 0.645907296116715\n",
      "1: 0.879274369530723\n",
      "0: 0.645907296116715\n",
      "1: 0.879274369530723\n",
      "0: 0.645907296116715\n",
      "1: 0.879274369530723\n",
      "0: 0.645907296116715\n",
      "1: 0.879274369530723\n"
     ]
    },
    {
     "name": "stderr",
     "output_type": "stream",
     "text": [
      " 85%|████████▍ | 508/600 [00:16<00:03, 24.43it/s]"
     ]
    },
    {
     "name": "stdout",
     "output_type": "stream",
     "text": [
      "0: 0.645907296116715\n",
      "1: 0.879274369530723\n"
     ]
    },
    {
     "name": "stderr",
     "output_type": "stream",
     "text": [
      " 85%|████████▌ | 512/600 [00:16<00:03, 26.35it/s]"
     ]
    },
    {
     "name": "stdout",
     "output_type": "stream",
     "text": [
      "0: 0.645907296116715\n",
      "1: 0.879274369530723\n",
      "0: 0.645907296116715\n",
      "1: 0.879274369530723\n",
      "0: 0.645907296116715\n",
      "1: 0.879274369530723\n",
      "0: 0.645907296116715\n",
      "1: 0.879274369530723\n",
      "0: 0.645907296116715\n",
      "1: 0.879274369530723\n",
      "0: 0.645907296116715\n",
      "1: 0.879274369530723\n",
      "0: 0.645907296116715\n",
      "1: 0.879274369530723\n"
     ]
    },
    {
     "name": "stderr",
     "output_type": "stream",
     "text": [
      " 87%|████████▋ | 520/600 [00:16<00:02, 28.93it/s]"
     ]
    },
    {
     "name": "stdout",
     "output_type": "stream",
     "text": [
      "0: 0.645907296116715\n",
      "1: 0.879274369530723\n",
      "0: 0.645907296116715\n",
      "1: 0.879274369530723\n",
      "0: 0.645907296116715\n",
      "1: 0.879274369530723\n",
      "0: 0.645907296116715\n",
      "1: 0.879274369530723\n",
      "0: 0.645907296116715\n",
      "1: 0.879274369530723\n",
      "0: 0.645907296116715\n",
      "1: 0.879274369530723\n"
     ]
    },
    {
     "name": "stderr",
     "output_type": "stream",
     "text": [
      " 88%|████████▊ | 528/600 [00:17<00:02, 30.74it/s]"
     ]
    },
    {
     "name": "stdout",
     "output_type": "stream",
     "text": [
      "0: 0.645907296116715\n",
      "1: 0.879274369530723\n",
      "0: 0.645907296116715\n",
      "1: 0.879274369530723\n",
      "0: 0.645907296116715\n",
      "1: 0.879274369530723\n",
      "0: 0.645907296116715\n",
      "1: 0.879274369530723\n",
      "0: 0.645907296116715\n",
      "1: 0.879274369530723\n",
      "0: 0.645907296116715\n",
      "1: 0.879274369530723\n",
      "0: 0.645907296116715\n",
      "1: 0.879274369530723\n"
     ]
    },
    {
     "name": "stderr",
     "output_type": "stream",
     "text": [
      " 89%|████████▊ | 532/600 [00:17<00:02, 32.09it/s]"
     ]
    },
    {
     "name": "stdout",
     "output_type": "stream",
     "text": [
      "0: 0.645907296116715\n",
      "1: 0.879274369530723\n",
      "0: 0.645907296116715\n",
      "1: 0.879274369530723\n",
      "0: 0.645907296116715\n",
      "1: 0.879274369530723\n",
      "0: 0.645907296116715\n",
      "1: 0.879274369530723\n",
      "0: 0.645907296116715\n",
      "1: 0.879274369530723\n",
      "0: 0.645907296116715\n",
      "1: 0.879274369530723\n",
      "0: 0.645907296116715\n",
      "1: 0.879274369530723\n"
     ]
    },
    {
     "name": "stderr",
     "output_type": "stream",
     "text": [
      " 90%|█████████ | 540/600 [00:17<00:02, 28.46it/s]"
     ]
    },
    {
     "name": "stdout",
     "output_type": "stream",
     "text": [
      "0: 0.645907296116715\n",
      "1: 0.879274369530723\n",
      "0: 0.645907296116715\n",
      "1: 0.879274369530723\n",
      "0: 0.645907296116715\n",
      "1: 0.879274369530723\n",
      "0: 0.645907296116715\n",
      "1: 0.879274369530723\n",
      "0: 0.645907296116715\n",
      "1: 0.879274369530723\n"
     ]
    },
    {
     "name": "stderr",
     "output_type": "stream",
     "text": [
      " 91%|█████████ | 547/600 [00:17<00:01, 29.44it/s]"
     ]
    },
    {
     "name": "stdout",
     "output_type": "stream",
     "text": [
      "0: 0.645907296116715\n",
      "1: 0.879274369530723\n",
      "0: 0.645907296116715\n",
      "1: 0.879274369530723\n",
      "0: 0.645907296116715\n",
      "1: 0.879274369530723\n",
      "0: 0.645907296116715\n",
      "1: 0.879274369530723\n",
      "0: 0.645907296116715\n",
      "1: 0.879274369530723\n",
      "0: 0.645907296116715\n",
      "1: 0.879274369530723\n",
      "0: 0.645907296116715\n",
      "1: 0.879274369530723\n"
     ]
    },
    {
     "name": "stderr",
     "output_type": "stream",
     "text": [
      " 92%|█████████▏| 551/600 [00:17<00:01, 29.55it/s]"
     ]
    },
    {
     "name": "stdout",
     "output_type": "stream",
     "text": [
      "0: 0.645907296116715\n",
      "1: 0.879274369530723\n",
      "0: 0.645907296116715\n",
      "1: 0.879274369530723\n",
      "0: 0.645907296116715\n",
      "1: 0.879274369530723\n",
      "0: 0.645907296116715\n",
      "1: 0.879274369530723\n",
      "0: 0.645907296116715\n",
      "1: 0.879274369530723\n",
      "0: 0.645907296116715\n",
      "1: 0.879274369530723\n"
     ]
    },
    {
     "name": "stderr",
     "output_type": "stream",
     "text": [
      " 93%|█████████▎| 558/600 [00:18<00:01, 30.53it/s]"
     ]
    },
    {
     "name": "stdout",
     "output_type": "stream",
     "text": [
      "0: 0.645907296116715\n",
      "1: 0.879274369530723\n",
      "0: 0.645907296116715\n",
      "1: 0.879274369530723\n",
      "0: 0.645907296116715\n",
      "1: 0.879274369530723\n",
      "0: 0.645907296116715\n",
      "1: 0.879274369530723\n",
      "0: 0.645907296116715\n",
      "1: 0.879274369530723\n",
      "0: 0.645907296116715\n",
      "1: 0.879274369530723\n",
      "0: 0.645907296116715\n",
      "1: 0.879274369530723\n",
      "0: 0.645907296116715\n",
      "1: 0.879274369530723\n"
     ]
    },
    {
     "name": "stderr",
     "output_type": "stream",
     "text": [
      " 94%|█████████▍| 566/600 [00:18<00:01, 33.51it/s]"
     ]
    },
    {
     "name": "stdout",
     "output_type": "stream",
     "text": [
      "0: 0.645907296116715\n",
      "1: 0.879274369530723\n",
      "0: 0.645907296116715\n",
      "1: 0.879274369530723\n",
      "0: 0.645907296116715\n",
      "1: 0.879274369530723\n",
      "0: 0.645907296116715\n",
      "1: 0.879274369530723\n",
      "0: 0.645907296116715\n",
      "1: 0.879274369530723\n",
      "0: 0.645907296116715\n",
      "1: 0.879274369530723\n",
      "0: 0.645907296116715\n",
      "1: 0.879274369530723\n",
      "0: 0.645907296116715\n",
      "1: 0.879274369530723\n"
     ]
    },
    {
     "name": "stderr",
     "output_type": "stream",
     "text": [
      " 96%|█████████▌| 574/600 [00:18<00:00, 33.44it/s]"
     ]
    },
    {
     "name": "stdout",
     "output_type": "stream",
     "text": [
      "0: 0.645907296116715\n",
      "1: 0.879274369530723\n",
      "0: 0.645907296116715\n",
      "1: 0.879274369530723\n",
      "0: 0.645907296116715\n",
      "1: 0.879274369530723\n",
      "0: 0.645907296116715\n",
      "1: 0.879274369530723\n",
      "0: 0.645907296116715\n",
      "1: 0.879274369530723\n",
      "0: 0.645907296116715\n",
      "1: 0.879274369530723\n",
      "0: 0.645907296116715\n",
      "1: 0.879274369530723\n"
     ]
    },
    {
     "name": "stderr",
     "output_type": "stream",
     "text": [
      " 97%|█████████▋| 582/600 [00:18<00:00, 32.74it/s]"
     ]
    },
    {
     "name": "stdout",
     "output_type": "stream",
     "text": [
      "0: 0.645907296116715\n",
      "1: 0.879274369530723\n",
      "0: 0.645907296116715\n",
      "1: 0.879274369530723\n",
      "0: 0.645907296116715\n",
      "1: 0.879274369530723\n",
      "0: 0.645907296116715\n",
      "1: 0.879274369530723\n",
      "0: 0.645907296116715\n",
      "1: 0.879274369530723\n",
      "0: 0.645907296116715\n",
      "1: 0.879274369530723\n",
      "0: 0.645907296116715\n",
      "1: 0.879274369530723\n"
     ]
    },
    {
     "name": "stderr",
     "output_type": "stream",
     "text": [
      " 98%|█████████▊| 590/600 [00:19<00:00, 33.62it/s]"
     ]
    },
    {
     "name": "stdout",
     "output_type": "stream",
     "text": [
      "0: 0.645907296116715\n",
      "1: 0.879274369530723\n",
      "0: 0.645907296116715\n",
      "1: 0.879274369530723\n",
      "0: 0.645907296116715\n",
      "1: 0.879274369530723\n",
      "0: 0.645907296116715\n",
      "1: 0.879274369530723\n",
      "0: 0.645907296116715\n",
      "1: 0.879274369530723\n",
      "0: 0.645907296116715\n",
      "1: 0.879274369530723\n",
      "0: 0.645907296116715\n",
      "1: 0.879274369530723\n"
     ]
    },
    {
     "name": "stderr",
     "output_type": "stream",
     "text": [
      " 99%|█████████▉| 594/600 [00:19<00:00, 32.35it/s]"
     ]
    },
    {
     "name": "stdout",
     "output_type": "stream",
     "text": [
      "0: 0.645907296116715\n",
      "1: 0.879274369530723\n",
      "0: 0.645907296116715\n",
      "1: 0.879274369530723\n",
      "0: 0.645907296116715\n",
      "1: 0.879274369530723\n",
      "0: 0.645907296116715\n",
      "1: 0.879274369530723\n",
      "0: 0.645907296116715\n",
      "1: 0.879274369530723\n",
      "0: 0.645907296116715\n",
      "1: 0.879274369530723\n"
     ]
    },
    {
     "name": "stderr",
     "output_type": "stream",
     "text": [
      "100%|█████████▉| 598/600 [00:19<00:00, 29.47it/s]"
     ]
    },
    {
     "name": "stdout",
     "output_type": "stream",
     "text": [
      "0: 0.645907296116715\n",
      "1: 0.879274369530723\n",
      "0: 0.645907296116715\n",
      "1: 0.879274369530723\n",
      "0: 0.645907296116715\n",
      "1: 0.879274369530723\n",
      "0: 0.645907296116715\n",
      "1: 0.879274369530723\n"
     ]
    },
    {
     "data": {
      "image/png": "[encoded data removed]",
      "text/plain": [
       "<Figure size 640x480 with 1 Axes>"
      ]
     },
     "metadata": {},
     "output_type": "display_data"
    },
    {
     "name": "stderr",
     "output_type": "stream",
     "text": [
      "100%|██████████| 600/600 [00:19<00:00, 30.64it/s]\n"
     ]
    }
   ],
   "source": [
    "# Generation of new dataset\n",
    "final_pts = gen_data.generate_data(goal_pd=goal_pd, amount=N, dim=2, lr=1.2, epochs=600, decay_speed=30, investigate=False, sliced=False, filtr=\"line\")"
   ]
  },
  {
   "attachments": {},
   "cell_type": "markdown",
   "metadata": {},
   "source": [
    "### The powerspectrum\n",
    "\n",
    "Later on we will focus on so-called Gaussian Random Fields (GRF). A characteristic feature of GRF's is their power spectrum. For that reason, we will already test whether the generated data set and the target dataset have the same power spectrum."
   ]
  },
  {
   "cell_type": "code",
   "execution_count": 1,
   "metadata": {},
   "outputs": [
    {
     "ename": "NameError",
     "evalue": "name 'goal_pts' is not defined",
     "output_type": "error",
     "traceback": [
      "\u001b[0;31m---------------------------------------------------------------------------\u001b[0m",
      "\u001b[0;31mNameError\u001b[0m                                 Traceback (most recent call last)",
      "\u001b[0;32m/var/folders/bx/2vdkg8px0_d133yw2cwygr4c0000gn/T/ipykernel_81815/3404774293.py\u001b[0m in \u001b[0;36m<module>\u001b[0;34m\u001b[0m\n\u001b[0;32m----> 1\u001b[0;31m \u001b[0moriginal_pts\u001b[0m \u001b[0;34m=\u001b[0m \u001b[0mgoal_pts\u001b[0m\u001b[0;34m.\u001b[0m\u001b[0mdetach\u001b[0m\u001b[0;34m(\u001b[0m\u001b[0;34m)\u001b[0m\u001b[0;34m.\u001b[0m\u001b[0mnumpy\u001b[0m\u001b[0;34m(\u001b[0m\u001b[0;34m)\u001b[0m\u001b[0;34m\u001b[0m\u001b[0;34m\u001b[0m\u001b[0m\n\u001b[0m\u001b[1;32m      2\u001b[0m \u001b[0mproduced_pts\u001b[0m \u001b[0;34m=\u001b[0m \u001b[0mfinal_pts\u001b[0m\u001b[0;34m.\u001b[0m\u001b[0mdetach\u001b[0m\u001b[0;34m(\u001b[0m\u001b[0;34m)\u001b[0m\u001b[0;34m.\u001b[0m\u001b[0mnumpy\u001b[0m\u001b[0;34m(\u001b[0m\u001b[0;34m)\u001b[0m\u001b[0;34m\u001b[0m\u001b[0;34m\u001b[0m\u001b[0m\n",
      "\u001b[0;31mNameError\u001b[0m: name 'goal_pts' is not defined"
     ]
    }
   ],
   "source": [
    "original_pts = goal_pts.detach().numpy()\n",
    "produced_pts = final_pts.detach().numpy()"
   ]
  },
  {
   "cell_type": "code",
   "execution_count": null,
   "metadata": {},
   "outputs": [],
   "source": [
    "# The number of grid points are also required when passing the samples\n",
    "p_k_samples, bins_samples = pbox.get_power(original_pts, 2.0, N=N)\n",
    "p_k_samples_new, bins_samples_new = pbox.get_power(produced_pts, 8.0, N=N)"
   ]
  },
  {
   "cell_type": "code",
   "execution_count": null,
   "metadata": {},
   "outputs": [],
   "source": [
    "plt.plot(bins_samples, p_k_samples,label=\"Original Circle Power\")\n",
    "plt.plot(bins_samples_new, p_k_samples_new,label=\"Generated Circle Power\")\n",
    "\n",
    "plt.legend()\n",
    "plt.xscale('log')\n",
    "plt.yscale('log')"
   ]
  },
  {
   "attachments": {},
   "cell_type": "markdown",
   "metadata": {},
   "source": [
    "## Alpha-Ripser Hybrid Filtration"
   ]
  },
  {
   "attachments": {},
   "cell_type": "markdown",
   "metadata": {},
   "source": [
    "### Creation of the new dataset"
   ]
  },
  {
   "cell_type": "code",
   "execution_count": 5,
   "metadata": {},
   "outputs": [],
   "source": [
    "# Creation of the PD that we want to get to\n",
    "goal_pd = gen_data.create_hybrid_pd(goal_pts)"
   ]
  },
  {
   "attachments": {},
   "cell_type": "markdown",
   "metadata": {},
   "source": [
    "First, we need to find out what optimal learning rate is. If you would like to make the computation quicker (which will make it less accurate), pass the option sliced=True to use the sliced wasserstein distance as the metric."
   ]
  },
  {
   "cell_type": "code",
   "execution_count": 8,
   "metadata": {},
   "outputs": [
    {
     "name": "stderr",
     "output_type": "stream",
     "text": [
      "100%|██████████| 300/300 [00:11<00:00, 26.34it/s]\n",
      "100%|██████████| 300/300 [00:08<00:00, 37.11it/s]\n",
      "100%|██████████| 300/300 [00:08<00:00, 35.82it/s]\n",
      "100%|██████████| 300/300 [00:08<00:00, 35.88it/s]\n",
      "100%|██████████| 300/300 [00:08<00:00, 36.14it/s]\n",
      "100%|██████████| 300/300 [00:08<00:00, 35.57it/s]\n"
     ]
    },
    {
     "data": {
      "image/png": "[encoded data removed]",
      "text/plain": [
       "<Figure size 640x480 with 1 Axes>"
      ]
     },
     "metadata": {},
     "output_type": "display_data"
    }
   ],
   "source": [
    "lr_list = np.linspace(0.001, 0.2, 6)\n",
    "research_plot.research_lr(lr_list=lr_list, goal_pd=goal_pd, amount=N, dim=2, epochs=300, decay_speed=30, sliced=False, filtr=\"alpha_rips_hybrid\")"
   ]
  },
  {
   "attachments": {},
   "cell_type": "markdown",
   "metadata": {},
   "source": [
    "After running the above code, plug in the best learning rate:"
   ]
  },
  {
   "cell_type": "code",
   "execution_count": 9,
   "metadata": {},
   "outputs": [
    {
     "name": "stderr",
     "output_type": "stream",
     "text": [
      "100%|██████████| 600/600 [00:08<00:00, 67.59it/s]\n"
     ]
    }
   ],
   "source": [
    "# Generation of new dataset\n",
    "final_pts = gen_data.generate_data(goal_pd=goal_pd, amount=N, dim=2, lr=0.04, epochs=600, decay_speed=30, investigate=False, sliced=False, filtr=\"alpha_rips_hybrid\")"
   ]
  },
  {
   "attachments": {},
   "cell_type": "markdown",
   "metadata": {},
   "source": [
    "### The powerspectrum"
   ]
  },
  {
   "cell_type": "code",
   "execution_count": null,
   "metadata": {},
   "outputs": [],
   "source": [
    "original_pts = goal_pts.detach().numpy()\n",
    "produced_pts = final_pts.detach().numpy()"
   ]
  },
  {
   "cell_type": "code",
   "execution_count": null,
   "metadata": {},
   "outputs": [],
   "source": [
    "# The number of grid points are also required when passing the samples\n",
    "p_k_samples, bins_samples = pbox.get_power(original_pts, 2.0, N=N)\n",
    "p_k_samples_new, bins_samples_new = pbox.get_power(produced_pts, 8.0, N=N)"
   ]
  },
  {
   "cell_type": "code",
   "execution_count": null,
   "metadata": {},
   "outputs": [],
   "source": [
    "plt.plot(bins_samples, p_k_samples,label=\"Original Circle Power\")\n",
    "plt.plot(bins_samples_new, p_k_samples_new,label=\"Generated Circle Power\")\n",
    "\n",
    "plt.legend()\n",
    "plt.xscale('log')\n",
    "plt.yscale('log')"
   ]
  }
 ],
 "metadata": {
  "kernelspec": {
   "display_name": "Inverse Optimization Virtual Environment",
   "language": "python",
   "name": "inverse_optim_env"
  },
  "language_info": {
   "codemirror_mode": {
    "name": "ipython",
    "version": 3
   },
   "file_extension": ".py",
   "mimetype": "text/x-python",
   "name": "python",
   "nbconvert_exporter": "python",
   "pygments_lexer": "ipython3",
   "version": "3.7.6"
  },
  "orig_nbformat": 4
 },
 "nbformat": 4,
 "nbformat_minor": 2
}
