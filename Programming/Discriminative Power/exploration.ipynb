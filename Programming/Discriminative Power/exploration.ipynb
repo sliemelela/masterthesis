{
 "cells": [
  {
   "cell_type": "code",
   "execution_count": 1,
   "metadata": {},
   "outputs": [],
   "source": [
    "import gudhi as gd\n",
    "import tadasets\n",
    "import math\n",
    "import numpy as np\n",
    "from sklearn.neighbors import KDTree\n",
    "from tqdm import tqdm\n",
    "import matplotlib.pyplot as plt"
   ]
  },
  {
   "cell_type": "code",
   "execution_count": 2,
   "metadata": {},
   "outputs": [
    {
     "data": {
      "image/png": "[encoded data removed]",
      "text/plain": [
       "<Figure size 432x288 with 1 Axes>"
      ]
     },
     "metadata": {
      "needs_background": "light"
     },
     "output_type": "display_data"
    }
   ],
   "source": [
    "pts = tadasets.dsphere(n=200, d=1, noise=0.5)\n",
    "# complex = gd.RipsComplex(points=pts)\n",
    "# st_rips = complex.create_simplex_tree(max_dimension=2)\n",
    "\n",
    "plt.scatter(pts[:, 0], pts[:, 1])\n",
    "plt.show()"
   ]
  },
  {
   "cell_type": "code",
   "execution_count": 6,
   "metadata": {},
   "outputs": [],
   "source": [
    "def DTM(X,query_pts,m):\n",
    "    '''\n",
    "    Compute the values of the DTM (with exponent p=2) of the empirical measure of a point cloud X\n",
    "    Require sklearn.neighbors.KDTree to search nearest neighbors\n",
    "    \n",
    "    Input:\n",
    "    X: a nxd numpy array representing n points in R^d\n",
    "    query_pts:  a kxd numpy array of query points\n",
    "    m: parameter of the DTM in [0,1)\n",
    "    \n",
    "    Output: \n",
    "    DTM_result: a kx1 numpy array contaning the DTM of the \n",
    "    query points\n",
    "    \n",
    "    Example:\n",
    "    X = np.array([[-1, -1], [-2, -1], [-3, -2], [1, 1], [2, 1], [3, 2]])\n",
    "    Q = np.array([[0,0],[5,5]])\n",
    "    DTM_values = DTM(X, Q, 0.3)\n",
    "    '''\n",
    "    N_tot = X.shape[0]     \n",
    "    k = math.floor(m*N_tot)+1   # number of neighbors\n",
    "\n",
    "    kdt = KDTree(X, leaf_size=30, metric='euclidean')\n",
    "    NN_Dist, NN = kdt.query(query_pts, k, return_distance=True)  \n",
    "\n",
    "    DTM_result = np.sqrt(np.sum(NN_Dist*NN_Dist,axis=1) / k)\n",
    "    \n",
    "    return(DTM_result)"
   ]
  },
  {
   "cell_type": "code",
   "execution_count": 29,
   "metadata": {},
   "outputs": [],
   "source": [
    "# List of function values\n",
    "DTM_values = DTM(pts, pts, 0.01)"
   ]
  },
  {
   "cell_type": "code",
   "execution_count": 33,
   "metadata": {},
   "outputs": [
    {
     "ename": "KeyboardInterrupt",
     "evalue": "",
     "output_type": "error",
     "traceback": [
      "\u001b[0;31m---------------------------------------------------------------------------\u001b[0m",
      "\u001b[0;31mKeyboardInterrupt\u001b[0m                         Traceback (most recent call last)",
      "\u001b[0;32m<ipython-input-33-c61137e9f48d>\u001b[0m in \u001b[0;36m<module>\u001b[0;34m\u001b[0m\n\u001b[1;32m     18\u001b[0m             \u001b[0mst\u001b[0m\u001b[0;34m.\u001b[0m\u001b[0minsert\u001b[0m\u001b[0;34m(\u001b[0m\u001b[0;34m[\u001b[0m\u001b[0mi\u001b[0m\u001b[0;34m]\u001b[0m\u001b[0;34m,\u001b[0m \u001b[0mfiltration\u001b[0m\u001b[0;34m=\u001b[0m\u001b[0;34m(\u001b[0m\u001b[0mdens\u001b[0m\u001b[0;34m-\u001b[0m\u001b[0mbeta\u001b[0m\u001b[0;34m)\u001b[0m \u001b[0;34m+\u001b[0m \u001b[0;34m(\u001b[0m\u001b[0;36m1\u001b[0m\u001b[0;34m/\u001b[0m\u001b[0malpha\u001b[0m\u001b[0;34m)\u001b[0m\u001b[0;34m*\u001b[0m\u001b[0;34m(\u001b[0m\u001b[0mdens\u001b[0m\u001b[0;34m-\u001b[0m\u001b[0mbeta\u001b[0m\u001b[0;34m)\u001b[0m\u001b[0;34m)\u001b[0m\u001b[0;34m\u001b[0m\u001b[0;34m\u001b[0m\u001b[0m\n\u001b[1;32m     19\u001b[0m     \u001b[0;32melse\u001b[0m\u001b[0;34m:\u001b[0m\u001b[0;34m\u001b[0m\u001b[0;34m\u001b[0m\u001b[0m\n\u001b[0;32m---> 20\u001b[0;31m         \u001b[0mdens\u001b[0m \u001b[0;34m=\u001b[0m \u001b[0ms\u001b[0m\u001b[0;34m(\u001b[0m\u001b[0msimplex\u001b[0m\u001b[0;34m[\u001b[0m\u001b[0;36m0\u001b[0m\u001b[0;34m]\u001b[0m\u001b[0;34m)\u001b[0m\u001b[0;34m\u001b[0m\u001b[0;34m\u001b[0m\u001b[0m\n\u001b[0m\u001b[1;32m     21\u001b[0m         \u001b[0morig_filt\u001b[0m \u001b[0;34m=\u001b[0m \u001b[0msimplex\u001b[0m\u001b[0;34m[\u001b[0m\u001b[0;36m1\u001b[0m\u001b[0;34m]\u001b[0m\u001b[0;34m\u001b[0m\u001b[0;34m\u001b[0m\u001b[0m\n\u001b[1;32m     22\u001b[0m         \u001b[0;32mif\u001b[0m \u001b[0malpha\u001b[0m\u001b[0;34m>=\u001b[0m \u001b[0;34m(\u001b[0m\u001b[0mdens\u001b[0m \u001b[0;34m-\u001b[0m \u001b[0mbeta\u001b[0m\u001b[0;34m)\u001b[0m\u001b[0;34m/\u001b[0m\u001b[0morig_filt\u001b[0m \u001b[0;32mor\u001b[0m \u001b[0mdens\u001b[0m \u001b[0;34m<=\u001b[0m \u001b[0mbeta\u001b[0m\u001b[0;34m:\u001b[0m\u001b[0;34m\u001b[0m\u001b[0;34m\u001b[0m\u001b[0m\n",
      "\u001b[0;32m<ipython-input-33-c61137e9f48d>\u001b[0m in \u001b[0;36ms\u001b[0;34m(simplex)\u001b[0m\n\u001b[1;32m      7\u001b[0m \u001b[0;34m\u001b[0m\u001b[0m\n\u001b[1;32m      8\u001b[0m \u001b[0;32mdef\u001b[0m \u001b[0ms\u001b[0m\u001b[0;34m(\u001b[0m\u001b[0msimplex\u001b[0m\u001b[0;34m)\u001b[0m\u001b[0;34m:\u001b[0m\u001b[0;34m\u001b[0m\u001b[0;34m\u001b[0m\u001b[0m\n\u001b[0;32m----> 9\u001b[0;31m     \u001b[0;32mreturn\u001b[0m \u001b[0mnp\u001b[0m\u001b[0;34m.\u001b[0m\u001b[0mmax\u001b[0m\u001b[0;34m(\u001b[0m\u001b[0mDTM_values\u001b[0m\u001b[0;34m[\u001b[0m\u001b[0msimplex\u001b[0m\u001b[0;34m]\u001b[0m\u001b[0;34m)\u001b[0m\u001b[0;34m\u001b[0m\u001b[0;34m\u001b[0m\u001b[0m\n\u001b[0m\u001b[1;32m     10\u001b[0m \u001b[0;34m\u001b[0m\u001b[0m\n\u001b[1;32m     11\u001b[0m \u001b[0;32mfor\u001b[0m \u001b[0msimplex\u001b[0m \u001b[0;32min\u001b[0m \u001b[0mst_rips\u001b[0m\u001b[0;34m.\u001b[0m\u001b[0mget_skeleton\u001b[0m\u001b[0;34m(\u001b[0m\u001b[0;36m2\u001b[0m\u001b[0;34m)\u001b[0m\u001b[0;34m:\u001b[0m\u001b[0;34m\u001b[0m\u001b[0;34m\u001b[0m\u001b[0m\n",
      "\u001b[0;32m<__array_function__ internals>\u001b[0m in \u001b[0;36mamax\u001b[0;34m(*args, **kwargs)\u001b[0m\n",
      "\u001b[0;32m~/opt/anaconda3/lib/python3.7/site-packages/numpy/core/fromnumeric.py\u001b[0m in \u001b[0;36mamax\u001b[0;34m(a, axis, out, keepdims, initial, where)\u001b[0m\n\u001b[1;32m   2753\u001b[0m     \"\"\"\n\u001b[1;32m   2754\u001b[0m     return _wrapreduction(a, np.maximum, 'max', axis, None, out,\n\u001b[0;32m-> 2755\u001b[0;31m                           keepdims=keepdims, initial=initial, where=where)\n\u001b[0m\u001b[1;32m   2756\u001b[0m \u001b[0;34m\u001b[0m\u001b[0m\n\u001b[1;32m   2757\u001b[0m \u001b[0;34m\u001b[0m\u001b[0m\n",
      "\u001b[0;32m~/opt/anaconda3/lib/python3.7/site-packages/numpy/core/fromnumeric.py\u001b[0m in \u001b[0;36m_wrapreduction\u001b[0;34m(obj, ufunc, method, axis, dtype, out, **kwargs)\u001b[0m\n\u001b[1;32m     84\u001b[0m                 \u001b[0;32mreturn\u001b[0m \u001b[0mreduction\u001b[0m\u001b[0;34m(\u001b[0m\u001b[0maxis\u001b[0m\u001b[0;34m=\u001b[0m\u001b[0maxis\u001b[0m\u001b[0;34m,\u001b[0m \u001b[0mout\u001b[0m\u001b[0;34m=\u001b[0m\u001b[0mout\u001b[0m\u001b[0;34m,\u001b[0m \u001b[0;34m**\u001b[0m\u001b[0mpasskwargs\u001b[0m\u001b[0;34m)\u001b[0m\u001b[0;34m\u001b[0m\u001b[0;34m\u001b[0m\u001b[0m\n\u001b[1;32m     85\u001b[0m \u001b[0;34m\u001b[0m\u001b[0m\n\u001b[0;32m---> 86\u001b[0;31m     \u001b[0;32mreturn\u001b[0m \u001b[0mufunc\u001b[0m\u001b[0;34m.\u001b[0m\u001b[0mreduce\u001b[0m\u001b[0;34m(\u001b[0m\u001b[0mobj\u001b[0m\u001b[0;34m,\u001b[0m \u001b[0maxis\u001b[0m\u001b[0;34m,\u001b[0m \u001b[0mdtype\u001b[0m\u001b[0;34m,\u001b[0m \u001b[0mout\u001b[0m\u001b[0;34m,\u001b[0m \u001b[0;34m**\u001b[0m\u001b[0mpasskwargs\u001b[0m\u001b[0;34m)\u001b[0m\u001b[0;34m\u001b[0m\u001b[0;34m\u001b[0m\u001b[0m\n\u001b[0m\u001b[1;32m     87\u001b[0m \u001b[0;34m\u001b[0m\u001b[0m\n\u001b[1;32m     88\u001b[0m \u001b[0;34m\u001b[0m\u001b[0m\n",
      "\u001b[0;31mKeyboardInterrupt\u001b[0m: "
     ]
    }
   ],
   "source": [
    "import timeit\n",
    "\n",
    "st = gd.SimplexTree()\n",
    "alpha = 4\n",
    "beta = 1\n",
    "\n",
    "\n",
    "def s(simplex):\n",
    "    return np.max(DTM_values[simplex])\n",
    "\n",
    "for simplex in st_rips.get_skeleton(2): \n",
    "    if len(simplex[0]) == 1:\n",
    "        i = simplex[0][0]\n",
    "        dens = DTM_values[i]\n",
    "        if dens <= beta:\n",
    "            st.insert([i], filtration=0)\n",
    "        else:\n",
    "            st.insert([i], filtration=(dens-beta) + (1/alpha)*(dens-beta))\n",
    "    else:\n",
    "        dens = s(simplex[0])\n",
    "        orig_filt = simplex[1]\n",
    "        if alpha>= (dens - beta)/orig_filt or dens <= beta:\n",
    "            st.insert(simplex[0], filtration=alpha*orig_filt + orig_filt)\n",
    "        else:\n",
    "            st.insert(simplex[0], filtration=(dens-beta) + (1/alpha)*(dens-beta))\n",
    "\n",
    "bar_code = st.persistence(2)\n",
    "gd.plot_persistence_diagram(bar_code)\n",
    "\n",
    "\n",
    "\n",
    "\n"
   ]
  },
  {
   "cell_type": "code",
   "execution_count": 20,
   "metadata": {},
   "outputs": [
    {
     "data": {
      "text/plain": [
       "array([2, 4, 4])"
      ]
     },
     "execution_count": 20,
     "metadata": {},
     "output_type": "execute_result"
    }
   ],
   "source": [
    "lele = np.array([1,3,3])\n",
    "\n",
    "kaka = np.array([1,2,3,4,5])\n",
    "\n",
    "kaka[lele]"
   ]
  },
  {
   "cell_type": "code",
   "execution_count": 11,
   "metadata": {},
   "outputs": [
    {
     "name": "stdout",
     "output_type": "stream",
     "text": [
      "Calculation of density 0.0011053989999822988\n",
      "Building rips complex 0.004138288000007151\n"
     ]
    },
    {
     "data": {
      "text/plain": [
       "<AxesSubplot:title={'center':'Persistence diagram'}, xlabel='Birth', ylabel='Death'>"
      ]
     },
     "execution_count": 11,
     "metadata": {},
     "output_type": "execute_result"
    },
    {
     "data": {
      "image/png": "[encoded data removed]",
      "text/plain": [
       "<Figure size 432x288 with 1 Axes>"
      ]
     },
     "metadata": {
      "needs_background": "light"
     },
     "output_type": "display_data"
    }
   ],
   "source": [
    "from mult_algo import *\n",
    "st =  biline_rips_st(1,0,pts)\n",
    "bar_code = st.persistence(2)\n",
    "gd.plot_persistence_diagram(bar_code)"
   ]
  },
  {
   "cell_type": "code",
   "execution_count": 1,
   "metadata": {},
   "outputs": [
    {
     "ename": "NameError",
     "evalue": "name 'timeit' is not defined",
     "output_type": "error",
     "traceback": [
      "\u001b[0;31m---------------------------------------------------------------------------\u001b[0m",
      "\u001b[0;31mNameError\u001b[0m                                 Traceback (most recent call last)",
      "\u001b[0;32m<ipython-input-1-38e3eef88ee4>\u001b[0m in \u001b[0;36m<module>\u001b[0;34m\u001b[0m\n\u001b[1;32m      2\u001b[0m \u001b[0mbeta\u001b[0m \u001b[0;34m=\u001b[0m \u001b[0;36m0\u001b[0m\u001b[0;34m\u001b[0m\u001b[0;34m\u001b[0m\u001b[0m\n\u001b[1;32m      3\u001b[0m \u001b[0;34m\u001b[0m\u001b[0m\n\u001b[0;32m----> 4\u001b[0;31m \u001b[0mstart_time\u001b[0m \u001b[0;34m=\u001b[0m \u001b[0mtimeit\u001b[0m\u001b[0;34m.\u001b[0m\u001b[0mdefault_timer\u001b[0m\u001b[0;34m(\u001b[0m\u001b[0;34m)\u001b[0m\u001b[0;34m\u001b[0m\u001b[0;34m\u001b[0m\u001b[0m\n\u001b[0m\u001b[1;32m      5\u001b[0m \u001b[0;31m# Density function on a simplex\u001b[0m\u001b[0;34m\u001b[0m\u001b[0;34m\u001b[0m\u001b[0;34m\u001b[0m\u001b[0m\n\u001b[1;32m      6\u001b[0m \u001b[0mDTM_values\u001b[0m \u001b[0;34m=\u001b[0m \u001b[0mDTM\u001b[0m\u001b[0;34m(\u001b[0m\u001b[0mpts\u001b[0m\u001b[0;34m,\u001b[0m \u001b[0mpts\u001b[0m\u001b[0;34m,\u001b[0m \u001b[0;36m0.01\u001b[0m\u001b[0;34m)\u001b[0m\u001b[0;34m\u001b[0m\u001b[0;34m\u001b[0m\u001b[0m\n",
      "\u001b[0;31mNameError\u001b[0m: name 'timeit' is not defined"
     ]
    }
   ],
   "source": [
    "alpha = 1\n",
    "beta = 0\n",
    "\n",
    "start_time = timeit.default_timer()\n",
    "# Density function on a simplex\n",
    "DTM_values = DTM(pts, pts, 0.01)\n",
    "def s(simplex):\n",
    "    return np.max(DTM_values[simplex])\n",
    "print(f\"Calculation of density {timeit.default_timer() - start_time}\")\n",
    "\n",
    "start_time = timeit.default_timer()\n",
    "# Build the rips complex\n",
    "complex = gd.AlphaComplex(points=pts)\n",
    "st_rips = complex.create_simplex_tree()\n",
    "# st_rips = complex.create_simplex_tree()\n",
    "print(f\"Building rips complex {timeit.default_timer() - start_time}\")\n",
    "\n",
    "# Creation of new simplex tree\n",
    "st = gd.SimplexTree()\n",
    "kaka = len(list(st_rips.get_skeleton(2)))\n",
    "for simplex in tqdm(st_rips.get_skeleton(2), total=kaka): \n",
    "\n",
    "    # Assign filtration value to each simplex (see thesis)\n",
    "    if len(simplex[0]) == 1:\n",
    "        i = simplex[0][0]\n",
    "        dens = DTM_values[i]\n",
    "        if dens <= beta:\n",
    "            st.insert([i], filtration=0)\n",
    "        else:\n",
    "            st.insert([i], filtration=(dens-beta) + (1/alpha)*(dens-beta))\n",
    "    else:\n",
    "        dens = s(simplex[0])\n",
    "        orig_filt = simplex[1]\n",
    "        if alpha>= (dens - beta)/orig_filt or dens <= beta:\n",
    "            st.insert(simplex[0], filtration=alpha*orig_filt + orig_filt)\n",
    "        else:\n",
    "            st.insert(simplex[0], filtration=(dens-beta) + (1/alpha)*(dens-beta))\n",
    "\n",
    "bar_code = st.persistence(2)\n",
    "gd.plot_persistence_diagram(bar_code)"
   ]
  }
 ],
 "metadata": {
  "kernelspec": {
   "display_name": "discr_env",
   "language": "python",
   "name": "discr_env"
  },
  "language_info": {
   "codemirror_mode": {
    "name": "ipython",
    "version": 3
   },
   "file_extension": ".py",
   "mimetype": "text/x-python",
   "name": "python",
   "nbconvert_exporter": "python",
   "pygments_lexer": "ipython3",
   "version": "3.7.6"
  },
  "orig_nbformat": 4,
  "vscode": {
   "interpreter": {
    "hash": "2cc78066b558c7062201f4c3db6ef0cb8c55617e0d6528c3e36327b30a1c5822"
   }
  }
 },
 "nbformat": 4,
 "nbformat_minor": 2
}
